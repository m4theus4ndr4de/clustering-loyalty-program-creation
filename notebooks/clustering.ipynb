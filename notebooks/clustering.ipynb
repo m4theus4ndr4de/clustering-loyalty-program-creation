{
 "cells": [
  {
   "cell_type": "markdown",
   "metadata": {},
   "source": [
    "# 0. Solution Planning"
   ]
  },
  {
   "cell_type": "markdown",
   "metadata": {},
   "source": [
    "# 0.1. Input"
   ]
  },
  {
   "cell_type": "markdown",
   "metadata": {},
   "source": [
    "1. Business Problem\n",
    "    - Select most valuable clientsto be part of a loyalty program\n",
    "\n",
    "2. Dataset\n",
    "    - Sales from an e-commerce during one year"
   ]
  },
  {
   "cell_type": "markdown",
   "metadata": {},
   "source": [
    "# 0.2. Output"
   ]
  },
  {
   "cell_type": "markdown",
   "metadata": {},
   "source": [
    "1. People indication to be part of the loyalty program\n",
    "    - List of clients tagged\n",
    "\n",
    "2. Report with the business questions\n",
    "\n",
    "    - Who are the elegible people to participate in the loyalty program?\n",
    "    - How many clients will be part of the loyalty program?\n",
    "    - Which are the main client characteristics?\n",
    "    - What is the percentage of profit contribution that comes from the loyalty program?\n",
    "    - What is the profit expectation from this group in the next months?\n",
    "    - What are the conditions that makes someone elegible to the loyalty program?\n",
    "    - What are the conditions that makes someone not elegible anymore to the loyalty program?\n",
    "    - What are the metrics to decide if the loyalty program people are really better than the rest of the database?\n",
    "    - What could the marketing team do to improve the profit?"
   ]
  },
  {
   "cell_type": "markdown",
   "metadata": {},
   "source": [
    "# 0.3. Tasks"
   ]
  },
  {
   "cell_type": "markdown",
   "metadata": {},
   "source": [
    "1. Who are the elegible people to participate in the loyalty program?\n",
    "    - Profit:\n",
    "        - High average ticket;\n",
    "        - High LTV (Life Time Value);\n",
    "        - High purchase frequency;\n",
    "        - High basket size;\n",
    "        - Low churn probability;\n",
    "        - High purchase propensity.\n",
    "\n",
    "    - Costs:\n",
    "        - Low number of devolutions;\n",
    "        - Experience;\n",
    "        - High number of ratings.\n",
    "\n",
    "2. How many clients will be part of the loyalty program?\n",
    "    - Percentage of total clients.\n",
    "\n",
    "3. Which are the main client characteristics?\n",
    "    - \n",
    "\n",
    "4. What is the percentage of profit contribution that comes from the loyalty program?\n",
    "\n",
    "5. What is the profit expectation from this group in the next months?\n",
    "\n",
    "6. What are the conditions that makes someone elegible to the loyalty program?\n",
    "\n",
    "7. What are the conditions that makes someone not elegible anymore to the loyalty program?\n",
    "    - \n",
    "\n",
    "8. What are the metrics to decide if the loyalty program people are really better than the rest of the database?\n",
    "    - Hypothesis testing;\n",
    "    - A/B testing.\n",
    "\n",
    "9. What could the marketing team do to improve the profit?\n",
    "    - Discounts;\n",
    "    - Choosing preferences;\n",
    "    - Exclusive products."
   ]
  },
  {
   "cell_type": "markdown",
   "metadata": {},
   "source": [
    "Quantos clientes farão parte do grupo?\n",
    "Número de clientes% em relação ao total de clients\n",
    "\n",
    "Quais as principais características desses clientes ?\n",
    "Escrever os principais atributos dos clientes\n",
    "    Idade\n",
    "    País\n",
    "    Salário\n",
    "Escrever os principais comportamentos de compra dos clients ( métricas de negócio )\n",
    "    Vide acima\n",
    "\n",
    "Qual a porcentagem de contribuição do faturamento, vinda do Insiders ?\n",
    "Calcular o faturamento total da empresa durante o ano.Calcular o faturamento (%) apenas do cluster Insiders.\n",
    "\n",
    "Qual a expectativa de faturamento desse grupo para os próximos meses ?\n",
    "Cálculo do LTV do grupo InsidersSéries Temporais ( ARMA, ARIMA, HoltWinter, etc )\n",
    "\n",
    "Quais as condições para uma pessoa ser elegível ao Insiders ?\n",
    "Qual o período de avaliação ?O \"desempenho\" do cliente está próximo da média do cluster Insiders.\n",
    "\n",
    "Quais as condições para uma pessoa ser removida do Insiders ?\n",
    "O \"desempenho\" do cliente não está mais próximo da média do cluster Insiders."
   ]
  },
  {
   "cell_type": "code",
   "execution_count": 1,
   "metadata": {},
   "outputs": [],
   "source": [
    "import numpy as np\n",
    "import pandas as pd"
   ]
  }
 ],
 "metadata": {
  "kernelspec": {
   "display_name": "Python 3.9.13 ('project')",
   "language": "python",
   "name": "python3"
  },
  "language_info": {
   "codemirror_mode": {
    "name": "ipython",
    "version": 3
   },
   "file_extension": ".py",
   "mimetype": "text/x-python",
   "name": "python",
   "nbconvert_exporter": "python",
   "pygments_lexer": "ipython3",
   "version": "3.9.13"
  },
  "orig_nbformat": 4,
  "vscode": {
   "interpreter": {
    "hash": "3a36e8288ce05fccdc5cbcda484a4def9b8e86dcd5f113ac1319378b2f1492d5"
   }
  }
 },
 "nbformat": 4,
 "nbformat_minor": 2
}
