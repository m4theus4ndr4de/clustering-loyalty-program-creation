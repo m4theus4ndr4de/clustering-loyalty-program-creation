{
 "cells": [
  {
   "cell_type": "markdown",
   "id": "a29c69e8",
   "metadata": {
    "papermill": {
     "duration": 0.033691,
     "end_time": "2022-11-27T07:11:53.963136",
     "exception": false,
     "start_time": "2022-11-27T07:11:53.929445",
     "status": "completed"
    },
    "tags": []
   },
   "source": [
    "# 1. Imports"
   ]
  },
  {
   "cell_type": "code",
   "execution_count": 1,
   "id": "843b7702",
   "metadata": {
    "execution": {
     "iopub.execute_input": "2022-11-27T07:11:53.994980Z",
     "iopub.status.busy": "2022-11-27T07:11:53.994629Z",
     "iopub.status.idle": "2022-11-27T07:11:59.059978Z",
     "shell.execute_reply": "2022-11-27T07:11:59.059388Z"
    },
    "papermill": {
     "duration": 5.080603,
     "end_time": "2022-11-27T07:11:59.061587",
     "exception": false,
     "start_time": "2022-11-27T07:11:53.980984",
     "status": "completed"
    },
    "tags": []
   },
   "outputs": [],
   "source": [
    "import numpy as np\n",
    "import regex as re\n",
    "import pandas as pd\n",
    "import seaborn as sns\n",
    "import umap.umap_ as umap\n",
    "\n",
    "from sklearn import metrics\n",
    "from datetime import datetime\n",
    "from matplotlib import cm\n",
    "from sqlalchemy import create_engine\n",
    "\n",
    "from sklearn import cluster as c\n",
    "from sklearn import mixture as mx\n",
    "from sklearn import ensemble as en\n",
    "from sklearn import manifold as mn\n",
    "from sklearn import preprocessing as pp\n",
    "from sklearn import decomposition as dd\n",
    "from matplotlib import pyplot as plt\n",
    "from scipy.cluster import hierarchy as hc"
   ]
  },
  {
   "cell_type": "markdown",
   "id": "d26ef0b0",
   "metadata": {
    "papermill": {
     "duration": 0.010363,
     "end_time": "2022-11-27T07:11:59.078563",
     "exception": false,
     "start_time": "2022-11-27T07:11:59.068200",
     "status": "completed"
    },
    "tags": []
   },
   "source": [
    "## 1.2. Load Dataset"
   ]
  },
  {
   "cell_type": "code",
   "execution_count": 2,
   "id": "5173d4cc",
   "metadata": {
    "execution": {
     "iopub.execute_input": "2022-11-27T07:11:59.103720Z",
     "iopub.status.busy": "2022-11-27T07:11:59.102842Z",
     "iopub.status.idle": "2022-11-27T07:11:59.106646Z",
     "shell.execute_reply": "2022-11-27T07:11:59.105654Z"
    },
    "papermill": {
     "duration": 0.018594,
     "end_time": "2022-11-27T07:11:59.108752",
     "exception": false,
     "start_time": "2022-11-27T07:11:59.090158",
     "status": "completed"
    },
    "tags": []
   },
   "outputs": [],
   "source": [
    "path = '/home/matheusandrade/Documents/repos/clustering-loyalty-program-creation/'"
   ]
  },
  {
   "cell_type": "code",
   "execution_count": 3,
   "id": "48f75aff",
   "metadata": {
    "execution": {
     "iopub.execute_input": "2022-11-27T07:11:59.128839Z",
     "iopub.status.busy": "2022-11-27T07:11:59.128473Z",
     "iopub.status.idle": "2022-11-27T07:11:59.733705Z",
     "shell.execute_reply": "2022-11-27T07:11:59.733163Z"
    },
    "papermill": {
     "duration": 0.61447,
     "end_time": "2022-11-27T07:11:59.735018",
     "exception": false,
     "start_time": "2022-11-27T07:11:59.120548",
     "status": "completed"
    },
    "tags": []
   },
   "outputs": [],
   "source": [
    "df_raw = pd.read_csv(path + 'data/Ecommerce.csv', encoding='unicode_escape')\n",
    "\n",
    "df_raw.drop(columns=['Unnamed: 8'], inplace=True)"
   ]
  },
  {
   "cell_type": "markdown",
   "id": "6e53b9a1",
   "metadata": {
    "papermill": {
     "duration": 0.006467,
     "end_time": "2022-11-27T07:11:59.767872",
     "exception": false,
     "start_time": "2022-11-27T07:11:59.761405",
     "status": "completed"
    },
    "tags": []
   },
   "source": [
    "# 2. Data Description"
   ]
  },
  {
   "cell_type": "code",
   "execution_count": 4,
   "id": "ec8e94e7",
   "metadata": {
    "execution": {
     "iopub.execute_input": "2022-11-27T07:11:59.790450Z",
     "iopub.status.busy": "2022-11-27T07:11:59.790053Z",
     "iopub.status.idle": "2022-11-27T07:11:59.819698Z",
     "shell.execute_reply": "2022-11-27T07:11:59.819130Z"
    },
    "papermill": {
     "duration": 0.041066,
     "end_time": "2022-11-27T07:11:59.820973",
     "exception": false,
     "start_time": "2022-11-27T07:11:59.779907",
     "status": "completed"
    },
    "tags": []
   },
   "outputs": [],
   "source": [
    "df1 = df_raw.copy()"
   ]
  },
  {
   "cell_type": "markdown",
   "id": "cd604086",
   "metadata": {
    "papermill": {
     "duration": 0.006535,
     "end_time": "2022-11-27T07:11:59.833855",
     "exception": false,
     "start_time": "2022-11-27T07:11:59.827320",
     "status": "completed"
    },
    "tags": []
   },
   "source": [
    "## 2.1. Rename Columns"
   ]
  },
  {
   "cell_type": "code",
   "execution_count": 5,
   "id": "fab97aa8",
   "metadata": {
    "execution": {
     "iopub.execute_input": "2022-11-27T07:11:59.847255Z",
     "iopub.status.busy": "2022-11-27T07:11:59.847069Z",
     "iopub.status.idle": "2022-11-27T07:11:59.849996Z",
     "shell.execute_reply": "2022-11-27T07:11:59.849468Z"
    },
    "papermill": {
     "duration": 0.010872,
     "end_time": "2022-11-27T07:11:59.851090",
     "exception": false,
     "start_time": "2022-11-27T07:11:59.840218",
     "status": "completed"
    },
    "tags": []
   },
   "outputs": [],
   "source": [
    "cols_new = ['invoice_no', 'stock_code', 'description', 'quantity', 'invoice_date', 'unit_price', 'customer_id', 'country']\n",
    "\n",
    "df1.columns = cols_new"
   ]
  },
  {
   "cell_type": "markdown",
   "id": "6f345ab1",
   "metadata": {
    "papermill": {
     "duration": 0.00606,
     "end_time": "2022-11-27T07:11:59.863420",
     "exception": false,
     "start_time": "2022-11-27T07:11:59.857360",
     "status": "completed"
    },
    "tags": []
   },
   "source": [
    "## 2.2. Data Dimension"
   ]
  },
  {
   "cell_type": "code",
   "execution_count": 6,
   "id": "25401baa",
   "metadata": {
    "execution": {
     "iopub.execute_input": "2022-11-27T07:11:59.877990Z",
     "iopub.status.busy": "2022-11-27T07:11:59.876928Z",
     "iopub.status.idle": "2022-11-27T07:11:59.881711Z",
     "shell.execute_reply": "2022-11-27T07:11:59.881088Z"
    },
    "papermill": {
     "duration": 0.013587,
     "end_time": "2022-11-27T07:11:59.883168",
     "exception": false,
     "start_time": "2022-11-27T07:11:59.869581",
     "status": "completed"
    },
    "tags": []
   },
   "outputs": [
    {
     "name": "stdout",
     "output_type": "stream",
     "text": [
      "Number of Rows: 541909\n",
      "Number of Cols: 8\n"
     ]
    }
   ],
   "source": [
    "print('Number of Rows: {}'.format(df1.shape[0]))\n",
    "print('Number of Cols: {}'.format(df1.shape[1]))"
   ]
  },
  {
   "cell_type": "markdown",
   "id": "08295174",
   "metadata": {
    "papermill": {
     "duration": 0.012084,
     "end_time": "2022-11-27T07:11:59.904454",
     "exception": false,
     "start_time": "2022-11-27T07:11:59.892370",
     "status": "completed"
    },
    "tags": []
   },
   "source": [
    "## 2.3. Check NA"
   ]
  },
  {
   "cell_type": "code",
   "execution_count": 7,
   "id": "90aa1b01",
   "metadata": {
    "execution": {
     "iopub.execute_input": "2022-11-27T07:11:59.925197Z",
     "iopub.status.busy": "2022-11-27T07:11:59.924988Z",
     "iopub.status.idle": "2022-11-27T07:12:00.149676Z",
     "shell.execute_reply": "2022-11-27T07:12:00.149306Z"
    },
    "papermill": {
     "duration": 0.234854,
     "end_time": "2022-11-27T07:12:00.150719",
     "exception": false,
     "start_time": "2022-11-27T07:11:59.915865",
     "status": "completed"
    },
    "tags": []
   },
   "outputs": [
    {
     "data": {
      "text/plain": [
       "invoice_no           0\n",
       "stock_code           0\n",
       "description       1454\n",
       "quantity             0\n",
       "invoice_date         0\n",
       "unit_price           0\n",
       "customer_id     135080\n",
       "country              0\n",
       "dtype: int64"
      ]
     },
     "execution_count": 7,
     "metadata": {},
     "output_type": "execute_result"
    }
   ],
   "source": [
    "df1.isna().sum()"
   ]
  },
  {
   "cell_type": "markdown",
   "id": "50838a34",
   "metadata": {
    "papermill": {
     "duration": 0.010547,
     "end_time": "2022-11-27T07:12:00.167766",
     "exception": false,
     "start_time": "2022-11-27T07:12:00.157219",
     "status": "completed"
    },
    "tags": []
   },
   "source": [
    "## 2.4. Replace NA"
   ]
  },
  {
   "cell_type": "code",
   "execution_count": 8,
   "id": "b24d1c47",
   "metadata": {
    "execution": {
     "iopub.execute_input": "2022-11-27T07:12:00.190896Z",
     "iopub.status.busy": "2022-11-27T07:12:00.190246Z",
     "iopub.status.idle": "2022-11-27T07:12:00.234651Z",
     "shell.execute_reply": "2022-11-27T07:12:00.234070Z"
    },
    "papermill": {
     "duration": 0.05753,
     "end_time": "2022-11-27T07:12:00.235920",
     "exception": false,
     "start_time": "2022-11-27T07:12:00.178390",
     "status": "completed"
    },
    "tags": []
   },
   "outputs": [],
   "source": [
    "df_missing = df1.loc[df1['customer_id'].isna(), :]\n",
    "df_not_missing = df1.loc[~df1['customer_id'].isna(), :]"
   ]
  },
  {
   "cell_type": "code",
   "execution_count": 9,
   "id": "bcf7b986",
   "metadata": {
    "execution": {
     "iopub.execute_input": "2022-11-27T07:12:00.252044Z",
     "iopub.status.busy": "2022-11-27T07:12:00.251557Z",
     "iopub.status.idle": "2022-11-27T07:12:00.392724Z",
     "shell.execute_reply": "2022-11-27T07:12:00.392194Z"
    },
    "papermill": {
     "duration": 0.15085,
     "end_time": "2022-11-27T07:12:00.394206",
     "exception": false,
     "start_time": "2022-11-27T07:12:00.243356",
     "status": "completed"
    },
    "tags": []
   },
   "outputs": [],
   "source": [
    "# create reference\n",
    "df_backup = pd.DataFrame(df_missing['invoice_no'].drop_duplicates())\n",
    "df_backup['customer_id'] = np.arange(19000, 19000+len(df_backup), 1)\n",
    "\n",
    "# merge original with reference dataframe\n",
    "df1 = pd.merge(df1, df_backup, on='invoice_no', how='left')\n",
    "\n",
    "# coalesce \n",
    "df1['customer_id'] = df1['customer_id_x'].combine_first( df1['customer_id_y'])\n",
    "\n",
    "# drop extra columns\n",
    "df1 = df1.drop(columns=['customer_id_x', 'customer_id_y'], axis=1)"
   ]
  },
  {
   "cell_type": "code",
   "execution_count": 10,
   "id": "65e7dd55",
   "metadata": {
    "execution": {
     "iopub.execute_input": "2022-11-27T07:12:00.412004Z",
     "iopub.status.busy": "2022-11-27T07:12:00.411405Z",
     "iopub.status.idle": "2022-11-27T07:12:00.652783Z",
     "shell.execute_reply": "2022-11-27T07:12:00.652346Z"
    },
    "papermill": {
     "duration": 0.252441,
     "end_time": "2022-11-27T07:12:00.653927",
     "exception": false,
     "start_time": "2022-11-27T07:12:00.401486",
     "status": "completed"
    },
    "tags": []
   },
   "outputs": [
    {
     "data": {
      "text/plain": [
       "invoice_no         0\n",
       "stock_code         0\n",
       "description     1454\n",
       "quantity           0\n",
       "invoice_date       0\n",
       "unit_price         0\n",
       "country            0\n",
       "customer_id        0\n",
       "dtype: int64"
      ]
     },
     "execution_count": 10,
     "metadata": {},
     "output_type": "execute_result"
    }
   ],
   "source": [
    "df1.isna().sum()"
   ]
  },
  {
   "cell_type": "markdown",
   "id": "be5ae555",
   "metadata": {
    "papermill": {
     "duration": 0.010228,
     "end_time": "2022-11-27T07:12:00.670860",
     "exception": false,
     "start_time": "2022-11-27T07:12:00.660632",
     "status": "completed"
    },
    "tags": []
   },
   "source": [
    "## 2.6. Check Data Types"
   ]
  },
  {
   "cell_type": "code",
   "execution_count": 11,
   "id": "a6b35b07",
   "metadata": {
    "execution": {
     "iopub.execute_input": "2022-11-27T07:12:00.686371Z",
     "iopub.status.busy": "2022-11-27T07:12:00.685729Z",
     "iopub.status.idle": "2022-11-27T07:12:00.691316Z",
     "shell.execute_reply": "2022-11-27T07:12:00.690707Z"
    },
    "papermill": {
     "duration": 0.015428,
     "end_time": "2022-11-27T07:12:00.692814",
     "exception": false,
     "start_time": "2022-11-27T07:12:00.677386",
     "status": "completed"
    },
    "tags": []
   },
   "outputs": [
    {
     "data": {
      "text/plain": [
       "invoice_no       object\n",
       "stock_code       object\n",
       "description      object\n",
       "quantity          int64\n",
       "invoice_date     object\n",
       "unit_price      float64\n",
       "country          object\n",
       "customer_id     float64\n",
       "dtype: object"
      ]
     },
     "execution_count": 11,
     "metadata": {},
     "output_type": "execute_result"
    }
   ],
   "source": [
    "df1.dtypes"
   ]
  },
  {
   "cell_type": "markdown",
   "id": "2a7639f6",
   "metadata": {
    "papermill": {
     "duration": 0.009754,
     "end_time": "2022-11-27T07:12:00.712755",
     "exception": false,
     "start_time": "2022-11-27T07:12:00.703001",
     "status": "completed"
    },
    "tags": []
   },
   "source": [
    "## 2.4. Change Data Types"
   ]
  },
  {
   "cell_type": "code",
   "execution_count": 12,
   "id": "16b4d6c1",
   "metadata": {
    "execution": {
     "iopub.execute_input": "2022-11-27T07:12:00.736170Z",
     "iopub.status.busy": "2022-11-27T07:12:00.735902Z",
     "iopub.status.idle": "2022-11-27T07:12:00.778790Z",
     "shell.execute_reply": "2022-11-27T07:12:00.778247Z"
    },
    "papermill": {
     "duration": 0.055922,
     "end_time": "2022-11-27T07:12:00.779970",
     "exception": false,
     "start_time": "2022-11-27T07:12:00.724048",
     "status": "completed"
    },
    "tags": []
   },
   "outputs": [],
   "source": [
    "# invoice_date\n",
    "df1['invoice_date'] = pd.to_datetime(df1['invoice_date'], format='%d-%b-%y')\n",
    "\n",
    "# customer_id\n",
    "df1['customer_id'] = df1['customer_id'].astype(int)"
   ]
  },
  {
   "cell_type": "code",
   "execution_count": 13,
   "id": "df0f697d",
   "metadata": {
    "execution": {
     "iopub.execute_input": "2022-11-27T07:12:00.799784Z",
     "iopub.status.busy": "2022-11-27T07:12:00.799483Z",
     "iopub.status.idle": "2022-11-27T07:12:00.804610Z",
     "shell.execute_reply": "2022-11-27T07:12:00.804004Z"
    },
    "papermill": {
     "duration": 0.021872,
     "end_time": "2022-11-27T07:12:00.808662",
     "exception": false,
     "start_time": "2022-11-27T07:12:00.786790",
     "status": "completed"
    },
    "tags": []
   },
   "outputs": [
    {
     "data": {
      "text/plain": [
       "invoice_no              object\n",
       "stock_code              object\n",
       "description             object\n",
       "quantity                 int64\n",
       "invoice_date    datetime64[ns]\n",
       "unit_price             float64\n",
       "country                 object\n",
       "customer_id              int64\n",
       "dtype: object"
      ]
     },
     "execution_count": 13,
     "metadata": {},
     "output_type": "execute_result"
    }
   ],
   "source": [
    "df1.dtypes"
   ]
  },
  {
   "cell_type": "markdown",
   "id": "40ac03f1",
   "metadata": {
    "papermill": {
     "duration": 0.011531,
     "end_time": "2022-11-27T07:12:00.831152",
     "exception": false,
     "start_time": "2022-11-27T07:12:00.819621",
     "status": "completed"
    },
    "tags": []
   },
   "source": [
    "## 2.7. Descriptive Statistics"
   ]
  },
  {
   "cell_type": "code",
   "execution_count": 14,
   "id": "1f4ce174",
   "metadata": {
    "execution": {
     "iopub.execute_input": "2022-11-27T07:12:00.850115Z",
     "iopub.status.busy": "2022-11-27T07:12:00.849904Z",
     "iopub.status.idle": "2022-11-27T07:12:00.896067Z",
     "shell.execute_reply": "2022-11-27T07:12:00.895581Z"
    },
    "papermill": {
     "duration": 0.055066,
     "end_time": "2022-11-27T07:12:00.897310",
     "exception": false,
     "start_time": "2022-11-27T07:12:00.842244",
     "status": "completed"
    },
    "tags": []
   },
   "outputs": [],
   "source": [
    "num_attributes = df1.select_dtypes(include=['int64', 'int32', 'float64'])\n",
    "cat_attributes = df1.select_dtypes(exclude=['int64', 'float64', 'datetime64[ns]'])"
   ]
  },
  {
   "cell_type": "markdown",
   "id": "97597318",
   "metadata": {
    "papermill": {
     "duration": 0.007566,
     "end_time": "2022-11-27T07:12:00.911748",
     "exception": false,
     "start_time": "2022-11-27T07:12:00.904182",
     "status": "completed"
    },
    "tags": []
   },
   "source": [
    "### 2.7.1. Numerical Attributes"
   ]
  },
  {
   "cell_type": "code",
   "execution_count": 15,
   "id": "6da16664",
   "metadata": {
    "execution": {
     "iopub.execute_input": "2022-11-27T07:12:00.937303Z",
     "iopub.status.busy": "2022-11-27T07:12:00.936859Z",
     "iopub.status.idle": "2022-11-27T07:12:00.946038Z",
     "shell.execute_reply": "2022-11-27T07:12:00.945304Z"
    },
    "papermill": {
     "duration": 0.025858,
     "end_time": "2022-11-27T07:12:00.949755",
     "exception": false,
     "start_time": "2022-11-27T07:12:00.923897",
     "status": "completed"
    },
    "tags": []
   },
   "outputs": [
    {
     "data": {
      "text/html": [
       "<div>\n",
       "<style scoped>\n",
       "    .dataframe tbody tr th:only-of-type {\n",
       "        vertical-align: middle;\n",
       "    }\n",
       "\n",
       "    .dataframe tbody tr th {\n",
       "        vertical-align: top;\n",
       "    }\n",
       "\n",
       "    .dataframe thead th {\n",
       "        text-align: right;\n",
       "    }\n",
       "</style>\n",
       "<table border=\"1\" class=\"dataframe\">\n",
       "  <thead>\n",
       "    <tr style=\"text-align: right;\">\n",
       "      <th></th>\n",
       "      <th>quantity</th>\n",
       "      <th>unit_price</th>\n",
       "      <th>customer_id</th>\n",
       "    </tr>\n",
       "  </thead>\n",
       "  <tbody>\n",
       "    <tr>\n",
       "      <th>0</th>\n",
       "      <td>6</td>\n",
       "      <td>2.55</td>\n",
       "      <td>17850</td>\n",
       "    </tr>\n",
       "    <tr>\n",
       "      <th>1</th>\n",
       "      <td>6</td>\n",
       "      <td>3.39</td>\n",
       "      <td>17850</td>\n",
       "    </tr>\n",
       "    <tr>\n",
       "      <th>2</th>\n",
       "      <td>8</td>\n",
       "      <td>2.75</td>\n",
       "      <td>17850</td>\n",
       "    </tr>\n",
       "    <tr>\n",
       "      <th>3</th>\n",
       "      <td>6</td>\n",
       "      <td>3.39</td>\n",
       "      <td>17850</td>\n",
       "    </tr>\n",
       "    <tr>\n",
       "      <th>4</th>\n",
       "      <td>6</td>\n",
       "      <td>3.39</td>\n",
       "      <td>17850</td>\n",
       "    </tr>\n",
       "  </tbody>\n",
       "</table>\n",
       "</div>"
      ],
      "text/plain": [
       "   quantity  unit_price  customer_id\n",
       "0         6        2.55        17850\n",
       "1         6        3.39        17850\n",
       "2         8        2.75        17850\n",
       "3         6        3.39        17850\n",
       "4         6        3.39        17850"
      ]
     },
     "execution_count": 15,
     "metadata": {},
     "output_type": "execute_result"
    }
   ],
   "source": [
    "num_attributes.head()"
   ]
  },
  {
   "cell_type": "code",
   "execution_count": 16,
   "id": "05d05572",
   "metadata": {
    "execution": {
     "iopub.execute_input": "2022-11-27T07:12:00.969247Z",
     "iopub.status.busy": "2022-11-27T07:12:00.969047Z",
     "iopub.status.idle": "2022-11-27T07:12:01.206206Z",
     "shell.execute_reply": "2022-11-27T07:12:01.205714Z"
    },
    "papermill": {
     "duration": 0.246253,
     "end_time": "2022-11-27T07:12:01.207257",
     "exception": false,
     "start_time": "2022-11-27T07:12:00.961004",
     "status": "completed"
    },
    "tags": []
   },
   "outputs": [
    {
     "data": {
      "text/html": [
       "<div>\n",
       "<style scoped>\n",
       "    .dataframe tbody tr th:only-of-type {\n",
       "        vertical-align: middle;\n",
       "    }\n",
       "\n",
       "    .dataframe tbody tr th {\n",
       "        vertical-align: top;\n",
       "    }\n",
       "\n",
       "    .dataframe thead th {\n",
       "        text-align: right;\n",
       "    }\n",
       "</style>\n",
       "<table border=\"1\" class=\"dataframe\">\n",
       "  <thead>\n",
       "    <tr style=\"text-align: right;\">\n",
       "      <th></th>\n",
       "      <th>attributes</th>\n",
       "      <th>min</th>\n",
       "      <th>max</th>\n",
       "      <th>range</th>\n",
       "      <th>mean</th>\n",
       "      <th>median</th>\n",
       "      <th>std</th>\n",
       "      <th>skew</th>\n",
       "      <th>kurtosis</th>\n",
       "    </tr>\n",
       "  </thead>\n",
       "  <tbody>\n",
       "    <tr>\n",
       "      <th>0</th>\n",
       "      <td>quantity</td>\n",
       "      <td>-80995.00</td>\n",
       "      <td>80995.0</td>\n",
       "      <td>161990.00</td>\n",
       "      <td>9.552250</td>\n",
       "      <td>3.00</td>\n",
       "      <td>218.080957</td>\n",
       "      <td>-0.264076</td>\n",
       "      <td>119769.160031</td>\n",
       "    </tr>\n",
       "    <tr>\n",
       "      <th>1</th>\n",
       "      <td>unit_price</td>\n",
       "      <td>-11062.06</td>\n",
       "      <td>38970.0</td>\n",
       "      <td>50032.06</td>\n",
       "      <td>4.611114</td>\n",
       "      <td>2.08</td>\n",
       "      <td>96.759764</td>\n",
       "      <td>186.506972</td>\n",
       "      <td>59005.719097</td>\n",
       "    </tr>\n",
       "    <tr>\n",
       "      <th>2</th>\n",
       "      <td>customer_id</td>\n",
       "      <td>12346.00</td>\n",
       "      <td>22709.0</td>\n",
       "      <td>10363.00</td>\n",
       "      <td>16688.840453</td>\n",
       "      <td>16249.00</td>\n",
       "      <td>2911.408666</td>\n",
       "      <td>0.487449</td>\n",
       "      <td>-0.804287</td>\n",
       "    </tr>\n",
       "  </tbody>\n",
       "</table>\n",
       "</div>"
      ],
      "text/plain": [
       "    attributes       min      max      range          mean    median  \\\n",
       "0     quantity -80995.00  80995.0  161990.00      9.552250      3.00   \n",
       "1   unit_price -11062.06  38970.0   50032.06      4.611114      2.08   \n",
       "2  customer_id  12346.00  22709.0   10363.00  16688.840453  16249.00   \n",
       "\n",
       "           std        skew       kurtosis  \n",
       "0   218.080957   -0.264076  119769.160031  \n",
       "1    96.759764  186.506972   59005.719097  \n",
       "2  2911.408666    0.487449      -0.804287  "
      ]
     },
     "execution_count": 16,
     "metadata": {},
     "output_type": "execute_result"
    }
   ],
   "source": [
    "# Central Tendency: mean, median\n",
    "ct1 = pd.DataFrame(num_attributes.apply(np.mean)).T\n",
    "ct2 = pd.DataFrame(num_attributes.apply(np.median)).T\n",
    "\n",
    "# Dispersion: std, min, max, range, skew, kurtosis\n",
    "d1 = pd.DataFrame(num_attributes.apply(np.std)).T\n",
    "d2 = pd.DataFrame(num_attributes.apply(min)).T\n",
    "d3 = pd.DataFrame(num_attributes.apply(max)).T\n",
    "d4 = pd.DataFrame(num_attributes.apply(lambda x: x.max() - x.min())).T\n",
    "d5 = pd.DataFrame(num_attributes.apply(lambda x: x.skew())).T\n",
    "d6 = pd.DataFrame(num_attributes.apply(lambda x: x.kurtosis())).T\n",
    "\n",
    "# concatenate\n",
    "m = pd.concat([d2, d3, d4, ct1, ct2, d1, d5, d6]).T.reset_index()\n",
    "m.columns = ['attributes', 'min', 'max', 'range', 'mean', 'median', 'std', 'skew', 'kurtosis']\n",
    "m"
   ]
  },
  {
   "cell_type": "markdown",
   "id": "c6aec9e6",
   "metadata": {
    "papermill": {
     "duration": 0.01019,
     "end_time": "2022-11-27T07:12:01.224463",
     "exception": false,
     "start_time": "2022-11-27T07:12:01.214273",
     "status": "completed"
    },
    "tags": []
   },
   "source": [
    "1. Quantity with negative value;\n",
    "\n",
    "2. Unit price equal to zero."
   ]
  },
  {
   "cell_type": "markdown",
   "id": "7f20c3dd",
   "metadata": {
    "papermill": {
     "duration": 0.012731,
     "end_time": "2022-11-27T07:12:01.249299",
     "exception": false,
     "start_time": "2022-11-27T07:12:01.236568",
     "status": "completed"
    },
    "tags": []
   },
   "source": [
    "### 2.7.2. Categorical Attributes"
   ]
  },
  {
   "cell_type": "code",
   "execution_count": 17,
   "id": "2591d370",
   "metadata": {
    "execution": {
     "iopub.execute_input": "2022-11-27T07:12:01.273468Z",
     "iopub.status.busy": "2022-11-27T07:12:01.273272Z",
     "iopub.status.idle": "2022-11-27T07:12:01.279166Z",
     "shell.execute_reply": "2022-11-27T07:12:01.278659Z"
    },
    "papermill": {
     "duration": 0.019954,
     "end_time": "2022-11-27T07:12:01.280602",
     "exception": false,
     "start_time": "2022-11-27T07:12:01.260648",
     "status": "completed"
    },
    "tags": []
   },
   "outputs": [
    {
     "data": {
      "text/html": [
       "<div>\n",
       "<style scoped>\n",
       "    .dataframe tbody tr th:only-of-type {\n",
       "        vertical-align: middle;\n",
       "    }\n",
       "\n",
       "    .dataframe tbody tr th {\n",
       "        vertical-align: top;\n",
       "    }\n",
       "\n",
       "    .dataframe thead th {\n",
       "        text-align: right;\n",
       "    }\n",
       "</style>\n",
       "<table border=\"1\" class=\"dataframe\">\n",
       "  <thead>\n",
       "    <tr style=\"text-align: right;\">\n",
       "      <th></th>\n",
       "      <th>invoice_no</th>\n",
       "      <th>stock_code</th>\n",
       "      <th>description</th>\n",
       "      <th>country</th>\n",
       "    </tr>\n",
       "  </thead>\n",
       "  <tbody>\n",
       "    <tr>\n",
       "      <th>0</th>\n",
       "      <td>536365</td>\n",
       "      <td>85123A</td>\n",
       "      <td>WHITE HANGING HEART T-LIGHT HOLDER</td>\n",
       "      <td>United Kingdom</td>\n",
       "    </tr>\n",
       "    <tr>\n",
       "      <th>1</th>\n",
       "      <td>536365</td>\n",
       "      <td>71053</td>\n",
       "      <td>WHITE METAL LANTERN</td>\n",
       "      <td>United Kingdom</td>\n",
       "    </tr>\n",
       "    <tr>\n",
       "      <th>2</th>\n",
       "      <td>536365</td>\n",
       "      <td>84406B</td>\n",
       "      <td>CREAM CUPID HEARTS COAT HANGER</td>\n",
       "      <td>United Kingdom</td>\n",
       "    </tr>\n",
       "    <tr>\n",
       "      <th>3</th>\n",
       "      <td>536365</td>\n",
       "      <td>84029G</td>\n",
       "      <td>KNITTED UNION FLAG HOT WATER BOTTLE</td>\n",
       "      <td>United Kingdom</td>\n",
       "    </tr>\n",
       "    <tr>\n",
       "      <th>4</th>\n",
       "      <td>536365</td>\n",
       "      <td>84029E</td>\n",
       "      <td>RED WOOLLY HOTTIE WHITE HEART.</td>\n",
       "      <td>United Kingdom</td>\n",
       "    </tr>\n",
       "  </tbody>\n",
       "</table>\n",
       "</div>"
      ],
      "text/plain": [
       "  invoice_no stock_code                          description         country\n",
       "0     536365     85123A   WHITE HANGING HEART T-LIGHT HOLDER  United Kingdom\n",
       "1     536365      71053                  WHITE METAL LANTERN  United Kingdom\n",
       "2     536365     84406B       CREAM CUPID HEARTS COAT HANGER  United Kingdom\n",
       "3     536365     84029G  KNITTED UNION FLAG HOT WATER BOTTLE  United Kingdom\n",
       "4     536365     84029E       RED WOOLLY HOTTIE WHITE HEART.  United Kingdom"
      ]
     },
     "execution_count": 17,
     "metadata": {},
     "output_type": "execute_result"
    }
   ],
   "source": [
    "cat_attributes.head()"
   ]
  },
  {
   "cell_type": "code",
   "execution_count": 18,
   "id": "e09bd2bf",
   "metadata": {
    "execution": {
     "iopub.execute_input": "2022-11-27T07:12:01.296099Z",
     "iopub.status.busy": "2022-11-27T07:12:01.295905Z",
     "iopub.status.idle": "2022-11-27T07:12:03.820354Z",
     "shell.execute_reply": "2022-11-27T07:12:03.819766Z"
    },
    "papermill": {
     "duration": 2.533282,
     "end_time": "2022-11-27T07:12:03.821437",
     "exception": false,
     "start_time": "2022-11-27T07:12:01.288155",
     "status": "completed"
    },
    "tags": []
   },
   "outputs": [
    {
     "name": "stdout",
     "output_type": "stream",
     "text": [
      "Total number of invoices with letters: 9291\n",
      "Total number of negative quantities with letter in the invoice: 9288\n"
     ]
    }
   ],
   "source": [
    "# invoice_no\n",
    "df_letter_invoices = df1.loc[df1['invoice_no'].apply(lambda x: bool(re.search('[^0-9]+', x))), :]\n",
    "\n",
    "print('Total number of invoices with letters: {}'.format(len(df_letter_invoices)))\n",
    "\n",
    "print('Total number of negative quantities with letter in the invoice: {}'.format(len(df_letter_invoices[df_letter_invoices['quantity']< 0])))"
   ]
  },
  {
   "cell_type": "code",
   "execution_count": 19,
   "id": "9c04e57a",
   "metadata": {
    "execution": {
     "iopub.execute_input": "2022-11-27T07:12:03.840196Z",
     "iopub.status.busy": "2022-11-27T07:12:03.839739Z",
     "iopub.status.idle": "2022-11-27T07:12:09.604777Z",
     "shell.execute_reply": "2022-11-27T07:12:09.604333Z"
    },
    "papermill": {
     "duration": 5.777211,
     "end_time": "2022-11-27T07:12:09.605831",
     "exception": false,
     "start_time": "2022-11-27T07:12:03.828620",
     "status": "completed"
    },
    "tags": []
   },
   "outputs": [
    {
     "name": "stdout",
     "output_type": "stream",
     "text": [
      "Number of stock codes with at least one letter: 1124\n"
     ]
    },
    {
     "name": "stdout",
     "output_type": "stream",
     "text": [
      "List of stock codes composed only by letters: ['POST' 'D' 'DOT' 'M' 'S' 'AMAZONFEE' 'm' 'DCGSSBOY' 'DCGSSGIRL' 'PADS'\n",
      " 'B' 'CRUK']\n"
     ]
    }
   ],
   "source": [
    "# stock_code\n",
    "print('Number of stock codes with at least one letter: {}'.format(len(cat_attributes.loc[cat_attributes['stock_code'].apply(lambda x: bool(re.search('[^0-9]+', x))), 'stock_code'].drop_duplicates())))\n",
    "\n",
    "print('List of stock codes composed only by letters: {}'.format(df1.loc[df1['stock_code'].apply(lambda x: bool(re.search('^[a-zA-Z]+$', x))), 'stock_code'].unique()))\n"
   ]
  },
  {
   "cell_type": "code",
   "execution_count": 20,
   "id": "d2ad6b7a",
   "metadata": {
    "execution": {
     "iopub.execute_input": "2022-11-27T07:12:09.626265Z",
     "iopub.status.busy": "2022-11-27T07:12:09.625714Z",
     "iopub.status.idle": "2022-11-27T07:12:09.687552Z",
     "shell.execute_reply": "2022-11-27T07:12:09.687116Z"
    },
    "papermill": {
     "duration": 0.075524,
     "end_time": "2022-11-27T07:12:09.688602",
     "exception": false,
     "start_time": "2022-11-27T07:12:09.613078",
     "status": "completed"
    },
    "tags": []
   },
   "outputs": [
    {
     "name": "stdout",
     "output_type": "stream",
     "text": [
      "Number of countries in the database: 38\n",
      "\n",
      "Some of these countries: \n",
      "United Kingdom    0.914320\n",
      "Germany           0.017521\n",
      "France            0.015790\n",
      "EIRE              0.015124\n",
      "Spain             0.004674\n",
      "Netherlands       0.004375\n",
      "Belgium           0.003818\n",
      "Switzerland       0.003694\n",
      "Portugal          0.002803\n",
      "Australia         0.002323\n",
      "Name: country, dtype: float64\n"
     ]
    }
   ],
   "source": [
    "# country\n",
    "print('Number of countries in the database: {}'.format(len(df1['country'].unique())))\n",
    "print('\\nSome of these countries: \\n{}'.format(df1['country'].value_counts(normalize=True).head(10)))"
   ]
  },
  {
   "cell_type": "markdown",
   "id": "381ef0af",
   "metadata": {
    "papermill": {
     "duration": 0.008175,
     "end_time": "2022-11-27T07:12:09.704115",
     "exception": false,
     "start_time": "2022-11-27T07:12:09.695940",
     "status": "completed"
    },
    "tags": []
   },
   "source": [
    "# 3. Variable Filtering"
   ]
  },
  {
   "cell_type": "code",
   "execution_count": 21,
   "id": "72fb696e",
   "metadata": {
    "execution": {
     "iopub.execute_input": "2022-11-27T07:12:09.732411Z",
     "iopub.status.busy": "2022-11-27T07:12:09.732069Z",
     "iopub.status.idle": "2022-11-27T07:12:09.748985Z",
     "shell.execute_reply": "2022-11-27T07:12:09.748311Z"
    },
    "papermill": {
     "duration": 0.032835,
     "end_time": "2022-11-27T07:12:09.750588",
     "exception": false,
     "start_time": "2022-11-27T07:12:09.717753",
     "status": "completed"
    },
    "tags": []
   },
   "outputs": [],
   "source": [
    "df2 = df1.copy()"
   ]
  },
  {
   "cell_type": "code",
   "execution_count": 22,
   "id": "6aa4131a",
   "metadata": {
    "execution": {
     "iopub.execute_input": "2022-11-27T07:12:09.772182Z",
     "iopub.status.busy": "2022-11-27T07:12:09.771844Z",
     "iopub.status.idle": "2022-11-27T07:12:09.929328Z",
     "shell.execute_reply": "2022-11-27T07:12:09.928764Z"
    },
    "papermill": {
     "duration": 0.168198,
     "end_time": "2022-11-27T07:12:09.930511",
     "exception": false,
     "start_time": "2022-11-27T07:12:09.762313",
     "status": "completed"
    },
    "tags": []
   },
   "outputs": [],
   "source": [
    "# unit price\n",
    "df2 = df2.loc[df2['unit_price'] > 0.04, :]\n",
    "\n",
    "# stock_code\n",
    "df2 = df2[~df2['stock_code'].isin(['POST', 'D', 'DOT', 'M', 'S', 'AMAZONFEE', 'm', 'DCGSSBOY', 'DCGSSGIRL', 'PADS', 'B', 'CRUK'])]\n",
    "\n",
    "# description\n",
    "df2 = df2.drop(columns='description', axis=1)\n",
    "\n",
    "# map\n",
    "df2 = df2[~df2['country'].isin(['European Community', 'Unspecified'])]\n",
    "\n",
    "# bad users\n",
    "df2 = df2[~df2['customer_id'].isin( [16446] )]\n",
    "\n",
    "# quantity\n",
    "df2_returns = df2.loc[df2['quantity'] < 0, :]\n",
    "df2_purchases = df2.loc[df2['quantity'] >= 0, :]"
   ]
  },
  {
   "cell_type": "markdown",
   "id": "e62913ca",
   "metadata": {
    "papermill": {
     "duration": 0.010294,
     "end_time": "2022-11-27T07:12:09.948399",
     "exception": false,
     "start_time": "2022-11-27T07:12:09.938105",
     "status": "completed"
    },
    "tags": []
   },
   "source": [
    "# 4. Feature Engineering"
   ]
  },
  {
   "cell_type": "code",
   "execution_count": 23,
   "id": "24fcc9e6",
   "metadata": {
    "execution": {
     "iopub.execute_input": "2022-11-27T07:12:09.976365Z",
     "iopub.status.busy": "2022-11-27T07:12:09.975885Z",
     "iopub.status.idle": "2022-11-27T07:12:09.996251Z",
     "shell.execute_reply": "2022-11-27T07:12:09.995515Z"
    },
    "papermill": {
     "duration": 0.036859,
     "end_time": "2022-11-27T07:12:09.997951",
     "exception": false,
     "start_time": "2022-11-27T07:12:09.961092",
     "status": "completed"
    },
    "tags": []
   },
   "outputs": [],
   "source": [
    "df3 = df2.copy()"
   ]
  },
  {
   "cell_type": "markdown",
   "id": "8efb58ba",
   "metadata": {
    "papermill": {
     "duration": 0.007412,
     "end_time": "2022-11-27T07:12:10.012815",
     "exception": false,
     "start_time": "2022-11-27T07:12:10.005403",
     "status": "completed"
    },
    "tags": []
   },
   "source": [
    "## 4.1. Feature Creation"
   ]
  },
  {
   "cell_type": "code",
   "execution_count": 24,
   "id": "6ae92eee",
   "metadata": {
    "execution": {
     "iopub.execute_input": "2022-11-27T07:12:10.028920Z",
     "iopub.status.busy": "2022-11-27T07:12:10.028709Z",
     "iopub.status.idle": "2022-11-27T07:12:10.040515Z",
     "shell.execute_reply": "2022-11-27T07:12:10.039917Z"
    },
    "papermill": {
     "duration": 0.021722,
     "end_time": "2022-11-27T07:12:10.041760",
     "exception": false,
     "start_time": "2022-11-27T07:12:10.020038",
     "status": "completed"
    },
    "tags": []
   },
   "outputs": [],
   "source": [
    "# data reference\n",
    "df_ref = df3.drop(['invoice_no', 'stock_code', 'quantity', 'invoice_date', 'unit_price', 'country'], axis=1)\n",
    "df_ref = df_ref.drop_duplicates(ignore_index=True)"
   ]
  },
  {
   "cell_type": "markdown",
   "id": "ec379601",
   "metadata": {
    "papermill": {
     "duration": 0.008488,
     "end_time": "2022-11-27T07:12:10.057768",
     "exception": false,
     "start_time": "2022-11-27T07:12:10.049280",
     "status": "completed"
    },
    "tags": []
   },
   "source": [
    "### 4.1.1. Gross Revenue"
   ]
  },
  {
   "cell_type": "code",
   "execution_count": 25,
   "id": "56a2ebd1",
   "metadata": {
    "execution": {
     "iopub.execute_input": "2022-11-27T07:12:10.088189Z",
     "iopub.status.busy": "2022-11-27T07:12:10.087618Z",
     "iopub.status.idle": "2022-11-27T07:12:10.126375Z",
     "shell.execute_reply": "2022-11-27T07:12:10.125672Z"
    },
    "papermill": {
     "duration": 0.055861,
     "end_time": "2022-11-27T07:12:10.127454",
     "exception": false,
     "start_time": "2022-11-27T07:12:10.071593",
     "status": "completed"
    },
    "tags": []
   },
   "outputs": [
    {
     "name": "stderr",
     "output_type": "stream",
     "text": [
      "/tmp/ipykernel_275698/1551767982.py:2: SettingWithCopyWarning: \n",
      "A value is trying to be set on a copy of a slice from a DataFrame.\n",
      "Try using .loc[row_indexer,col_indexer] = value instead\n",
      "\n",
      "See the caveats in the documentation: https://pandas.pydata.org/pandas-docs/stable/user_guide/indexing.html#returning-a-view-versus-a-copy\n",
      "  df2_purchases.loc[:, 'gross_revenue'] = df2_purchases.loc[:, 'quantity'] * df2_purchases.loc[:, 'unit_price']\n"
     ]
    }
   ],
   "source": [
    "# gross revenue (profit) quantity * price\n",
    "df2_purchases.loc[:, 'gross_revenue'] = df2_purchases.loc[:, 'quantity'] * df2_purchases.loc[:, 'unit_price']\n",
    "\n",
    "# monetary\n",
    "df_monetary = df2_purchases[['customer_id', 'gross_revenue']].groupby('customer_id').sum().reset_index()\n",
    "df_ref = pd.merge(df_ref, df_monetary, on='customer_id', how='left')"
   ]
  },
  {
   "cell_type": "markdown",
   "id": "2d62e7bf",
   "metadata": {
    "papermill": {
     "duration": 0.007342,
     "end_time": "2022-11-27T07:12:10.142259",
     "exception": false,
     "start_time": "2022-11-27T07:12:10.134917",
     "status": "completed"
    },
    "tags": []
   },
   "source": [
    "### 4.1.2. Recency"
   ]
  },
  {
   "cell_type": "code",
   "execution_count": 26,
   "id": "3cd20cb8",
   "metadata": {
    "execution": {
     "iopub.execute_input": "2022-11-27T07:12:10.160223Z",
     "iopub.status.busy": "2022-11-27T07:12:10.159919Z",
     "iopub.status.idle": "2022-11-27T07:12:10.187912Z",
     "shell.execute_reply": "2022-11-27T07:12:10.187312Z"
    },
    "papermill": {
     "duration": 0.039773,
     "end_time": "2022-11-27T07:12:10.189568",
     "exception": false,
     "start_time": "2022-11-27T07:12:10.149795",
     "status": "completed"
    },
    "tags": []
   },
   "outputs": [],
   "source": [
    "df_recency = df2_purchases.loc[:, ['customer_id', 'invoice_date']].groupby('customer_id').max().reset_index()\n",
    "df_recency['recency_days'] = (df2['invoice_date'].max() - df_recency['invoice_date']).dt.days\n",
    "df_recency = df_recency.loc[:, ['customer_id', 'recency_days']].copy()\n",
    "df_ref = pd.merge(df_ref, df_recency, on='customer_id', how='left')"
   ]
  },
  {
   "cell_type": "markdown",
   "id": "e3d9c70e",
   "metadata": {
    "papermill": {
     "duration": 0.013598,
     "end_time": "2022-11-27T07:12:10.213545",
     "exception": false,
     "start_time": "2022-11-27T07:12:10.199947",
     "status": "completed"
    },
    "tags": []
   },
   "source": [
    "### 4.1.5. Quantity of Products Purchased"
   ]
  },
  {
   "cell_type": "code",
   "execution_count": 27,
   "id": "4c817502",
   "metadata": {
    "execution": {
     "iopub.execute_input": "2022-11-27T07:12:10.233278Z",
     "iopub.status.busy": "2022-11-27T07:12:10.233085Z",
     "iopub.status.idle": "2022-11-27T07:12:10.292029Z",
     "shell.execute_reply": "2022-11-27T07:12:10.291436Z"
    },
    "papermill": {
     "duration": 0.068689,
     "end_time": "2022-11-27T07:12:10.293245",
     "exception": false,
     "start_time": "2022-11-27T07:12:10.224556",
     "status": "completed"
    },
    "tags": []
   },
   "outputs": [],
   "source": [
    "df_freq = df2_purchases.loc[:, ['customer_id', 'stock_code']].groupby('customer_id').count().reset_index().rename(columns={'stock_code': 'q_products'})\n",
    "df_ref = pd.merge(df_ref, df_freq, on='customer_id', how='left')"
   ]
  },
  {
   "cell_type": "markdown",
   "id": "f469e960",
   "metadata": {
    "papermill": {
     "duration": 0.008997,
     "end_time": "2022-11-27T07:12:10.309774",
     "exception": false,
     "start_time": "2022-11-27T07:12:10.300777",
     "status": "completed"
    },
    "tags": []
   },
   "source": [
    "### 4.1.8. Frequency"
   ]
  },
  {
   "cell_type": "code",
   "execution_count": 28,
   "id": "6dbe3e57",
   "metadata": {
    "execution": {
     "iopub.execute_input": "2022-11-27T07:12:10.337549Z",
     "iopub.status.busy": "2022-11-27T07:12:10.337221Z",
     "iopub.status.idle": "2022-11-27T07:12:11.164999Z",
     "shell.execute_reply": "2022-11-27T07:12:11.164427Z"
    },
    "papermill": {
     "duration": 0.842642,
     "end_time": "2022-11-27T07:12:11.166215",
     "exception": false,
     "start_time": "2022-11-27T07:12:10.323573",
     "status": "completed"
    },
    "tags": []
   },
   "outputs": [],
   "source": [
    "df_aux = (df2_purchases[['customer_id', 'invoice_no', 'invoice_date']].drop_duplicates()\n",
    "                                                            .groupby('customer_id')\n",
    "                                                            .agg(max_ = ( 'invoice_date', 'max'), \n",
    "                                                                 min_ = ( 'invoice_date', 'min'),\n",
    "                                                                 days_= ( 'invoice_date', lambda x: ((x.max() - x.min()).days) + 1),\n",
    "                                                                 buy_ = ( 'invoice_no', 'count'))).reset_index()\n",
    "\n",
    "df_aux['frequency'] = df_aux[['buy_', 'days_']].apply(lambda x: x['buy_'] / x['days_'] if  x['days_'] != 0 else 0, axis=1)\n",
    "df_ref = pd.merge( df_ref, df_aux[['customer_id', 'frequency']], on='customer_id', how='left')"
   ]
  },
  {
   "cell_type": "markdown",
   "id": "d87cacb1",
   "metadata": {
    "papermill": {
     "duration": 0.010309,
     "end_time": "2022-11-27T07:12:11.183973",
     "exception": false,
     "start_time": "2022-11-27T07:12:11.173664",
     "status": "completed"
    },
    "tags": []
   },
   "source": [
    "### 4.1.9. Returns"
   ]
  },
  {
   "cell_type": "code",
   "execution_count": 29,
   "id": "8566ac2f",
   "metadata": {
    "execution": {
     "iopub.execute_input": "2022-11-27T07:12:11.201710Z",
     "iopub.status.busy": "2022-11-27T07:12:11.201456Z",
     "iopub.status.idle": "2022-11-27T07:12:11.212774Z",
     "shell.execute_reply": "2022-11-27T07:12:11.212159Z"
    },
    "papermill": {
     "duration": 0.023503,
     "end_time": "2022-11-27T07:12:11.214795",
     "exception": false,
     "start_time": "2022-11-27T07:12:11.191292",
     "status": "completed"
    },
    "tags": []
   },
   "outputs": [],
   "source": [
    "df_returns = df2_returns[['customer_id', 'quantity']].groupby('customer_id').sum().reset_index().rename(columns={'quantity':'q_returns'})\n",
    "df_returns['q_returns'] = df_returns['q_returns'] * -1\n",
    "\n",
    "df_ref = pd.merge(df_ref, df_returns, how='left', on='customer_id')\n",
    "df_ref.loc[df_ref['q_returns'].isna(), 'q_returns'] = 0\n"
   ]
  },
  {
   "cell_type": "markdown",
   "id": "a60fbfaa",
   "metadata": {
    "papermill": {
     "duration": 0.012797,
     "end_time": "2022-11-27T07:12:11.240804",
     "exception": false,
     "start_time": "2022-11-27T07:12:11.228007",
     "status": "completed"
    },
    "tags": []
   },
   "source": [
    "## 4.2. Check Dataframe"
   ]
  },
  {
   "cell_type": "code",
   "execution_count": 30,
   "id": "ac4c0217",
   "metadata": {
    "execution": {
     "iopub.execute_input": "2022-11-27T07:12:11.262197Z",
     "iopub.status.busy": "2022-11-27T07:12:11.262009Z",
     "iopub.status.idle": "2022-11-27T07:12:11.267309Z",
     "shell.execute_reply": "2022-11-27T07:12:11.266812Z"
    },
    "papermill": {
     "duration": 0.015285,
     "end_time": "2022-11-27T07:12:11.268372",
     "exception": false,
     "start_time": "2022-11-27T07:12:11.253087",
     "status": "completed"
    },
    "tags": []
   },
   "outputs": [
    {
     "data": {
      "text/plain": [
       "customer_id       0\n",
       "gross_revenue    91\n",
       "recency_days     91\n",
       "q_products       91\n",
       "frequency        91\n",
       "q_returns         0\n",
       "dtype: int64"
      ]
     },
     "execution_count": 30,
     "metadata": {},
     "output_type": "execute_result"
    }
   ],
   "source": [
    "# check na\n",
    "df_ref.isna().sum()"
   ]
  },
  {
   "cell_type": "code",
   "execution_count": 31,
   "id": "f8890f21",
   "metadata": {
    "execution": {
     "iopub.execute_input": "2022-11-27T07:12:11.284520Z",
     "iopub.status.busy": "2022-11-27T07:12:11.284334Z",
     "iopub.status.idle": "2022-11-27T07:12:11.291591Z",
     "shell.execute_reply": "2022-11-27T07:12:11.291166Z"
    },
    "papermill": {
     "duration": 0.016613,
     "end_time": "2022-11-27T07:12:11.292678",
     "exception": false,
     "start_time": "2022-11-27T07:12:11.276065",
     "status": "completed"
    },
    "tags": []
   },
   "outputs": [
    {
     "data": {
      "text/html": [
       "<div>\n",
       "<style scoped>\n",
       "    .dataframe tbody tr th:only-of-type {\n",
       "        vertical-align: middle;\n",
       "    }\n",
       "\n",
       "    .dataframe tbody tr th {\n",
       "        vertical-align: top;\n",
       "    }\n",
       "\n",
       "    .dataframe thead th {\n",
       "        text-align: right;\n",
       "    }\n",
       "</style>\n",
       "<table border=\"1\" class=\"dataframe\">\n",
       "  <thead>\n",
       "    <tr style=\"text-align: right;\">\n",
       "      <th></th>\n",
       "      <th>customer_id</th>\n",
       "      <th>gross_revenue</th>\n",
       "      <th>recency_days</th>\n",
       "      <th>q_products</th>\n",
       "      <th>frequency</th>\n",
       "      <th>q_returns</th>\n",
       "    </tr>\n",
       "  </thead>\n",
       "  <tbody>\n",
       "    <tr>\n",
       "      <th>0</th>\n",
       "      <td>17850</td>\n",
       "      <td>5391.21</td>\n",
       "      <td>372.0</td>\n",
       "      <td>297.0</td>\n",
       "      <td>17.000000</td>\n",
       "      <td>40.0</td>\n",
       "    </tr>\n",
       "    <tr>\n",
       "      <th>1</th>\n",
       "      <td>13047</td>\n",
       "      <td>3232.59</td>\n",
       "      <td>56.0</td>\n",
       "      <td>171.0</td>\n",
       "      <td>0.028302</td>\n",
       "      <td>35.0</td>\n",
       "    </tr>\n",
       "    <tr>\n",
       "      <th>2</th>\n",
       "      <td>12583</td>\n",
       "      <td>6705.38</td>\n",
       "      <td>2.0</td>\n",
       "      <td>232.0</td>\n",
       "      <td>0.040323</td>\n",
       "      <td>50.0</td>\n",
       "    </tr>\n",
       "    <tr>\n",
       "      <th>3</th>\n",
       "      <td>13748</td>\n",
       "      <td>948.25</td>\n",
       "      <td>95.0</td>\n",
       "      <td>28.0</td>\n",
       "      <td>0.017921</td>\n",
       "      <td>0.0</td>\n",
       "    </tr>\n",
       "    <tr>\n",
       "      <th>4</th>\n",
       "      <td>15100</td>\n",
       "      <td>876.00</td>\n",
       "      <td>333.0</td>\n",
       "      <td>3.0</td>\n",
       "      <td>0.073171</td>\n",
       "      <td>22.0</td>\n",
       "    </tr>\n",
       "  </tbody>\n",
       "</table>\n",
       "</div>"
      ],
      "text/plain": [
       "   customer_id  gross_revenue  recency_days  q_products  frequency  q_returns\n",
       "0        17850        5391.21         372.0       297.0  17.000000       40.0\n",
       "1        13047        3232.59          56.0       171.0   0.028302       35.0\n",
       "2        12583        6705.38           2.0       232.0   0.040323       50.0\n",
       "3        13748         948.25          95.0        28.0   0.017921        0.0\n",
       "4        15100         876.00         333.0         3.0   0.073171       22.0"
      ]
     },
     "execution_count": 31,
     "metadata": {},
     "output_type": "execute_result"
    }
   ],
   "source": [
    "df_ref.head()"
   ]
  },
  {
   "cell_type": "markdown",
   "id": "5f8e9734",
   "metadata": {
    "papermill": {
     "duration": 0.011473,
     "end_time": "2022-11-27T07:12:11.312166",
     "exception": false,
     "start_time": "2022-11-27T07:12:11.300693",
     "status": "completed"
    },
    "tags": []
   },
   "source": [
    "# 5. EDA (Exploratory Data Analysis)"
   ]
  },
  {
   "cell_type": "code",
   "execution_count": 32,
   "id": "8bc36108",
   "metadata": {
    "execution": {
     "iopub.execute_input": "2022-11-27T07:12:11.343765Z",
     "iopub.status.busy": "2022-11-27T07:12:11.343166Z",
     "iopub.status.idle": "2022-11-27T07:12:11.352422Z",
     "shell.execute_reply": "2022-11-27T07:12:11.351835Z"
    },
    "papermill": {
     "duration": 0.027443,
     "end_time": "2022-11-27T07:12:11.353943",
     "exception": false,
     "start_time": "2022-11-27T07:12:11.326500",
     "status": "completed"
    },
    "tags": []
   },
   "outputs": [
    {
     "data": {
      "text/plain": [
       "customer_id      0\n",
       "gross_revenue    0\n",
       "recency_days     0\n",
       "q_products       0\n",
       "frequency        0\n",
       "q_returns        0\n",
       "dtype: int64"
      ]
     },
     "execution_count": 32,
     "metadata": {},
     "output_type": "execute_result"
    }
   ],
   "source": [
    "cols_selected = ['customer_id', 'gross_revenue', 'recency_days', 'q_products', 'frequency', 'q_returns']\n",
    "df_selected = df_ref[cols_selected].copy()\n",
    "\n",
    "df4 = df_selected.dropna().copy()\n",
    "df4.isna().sum()"
   ]
  },
  {
   "cell_type": "markdown",
   "id": "2eda4328",
   "metadata": {
    "papermill": {
     "duration": 0.007669,
     "end_time": "2022-11-27T07:12:11.372710",
     "exception": false,
     "start_time": "2022-11-27T07:12:11.365041",
     "status": "completed"
    },
    "tags": []
   },
   "source": [
    "## 5.3. Space Study"
   ]
  },
  {
   "cell_type": "code",
   "execution_count": 33,
   "id": "34e5de6f",
   "metadata": {
    "execution": {
     "iopub.execute_input": "2022-11-27T07:12:11.389463Z",
     "iopub.status.busy": "2022-11-27T07:12:11.389276Z",
     "iopub.status.idle": "2022-11-27T07:12:11.392931Z",
     "shell.execute_reply": "2022-11-27T07:12:11.392398Z"
    },
    "papermill": {
     "duration": 0.01315,
     "end_time": "2022-11-27T07:12:11.393970",
     "exception": false,
     "start_time": "2022-11-27T07:12:11.380820",
     "status": "completed"
    },
    "tags": []
   },
   "outputs": [],
   "source": [
    "# selected dataset\n",
    "df4_3 = df4[cols_selected].drop(columns='customer_id', axis=1)"
   ]
  },
  {
   "cell_type": "code",
   "execution_count": 34,
   "id": "0bd340ea",
   "metadata": {
    "execution": {
     "iopub.execute_input": "2022-11-27T07:12:11.415189Z",
     "iopub.status.busy": "2022-11-27T07:12:11.414979Z",
     "iopub.status.idle": "2022-11-27T07:12:11.437024Z",
     "shell.execute_reply": "2022-11-27T07:12:11.436208Z"
    },
    "papermill": {
     "duration": 0.03613,
     "end_time": "2022-11-27T07:12:11.438686",
     "exception": false,
     "start_time": "2022-11-27T07:12:11.402556",
     "status": "completed"
    },
    "tags": []
   },
   "outputs": [],
   "source": [
    "mm = pp.MinMaxScaler()\n",
    "\n",
    "df4_3['gross_revenue'] = mm.fit_transform(df4_3[['gross_revenue']]) \n",
    "df4_3['recency_days'] = mm.fit_transform(df4_3[['recency_days']]) \n",
    "df4_3['q_products'] = mm.fit_transform(df4_3[['q_products']]) \n",
    "df4_3['frequency'] = mm.fit_transform(df4_3[['frequency']]) \n",
    "df4_3['q_returns'] = mm.fit_transform(df4_3[['q_returns']]) \n",
    "\n",
    "X = df4_3.copy()"
   ]
  },
  {
   "cell_type": "markdown",
   "id": "5042e463",
   "metadata": {
    "papermill": {
     "duration": 0.01059,
     "end_time": "2022-11-27T07:12:11.464740",
     "exception": false,
     "start_time": "2022-11-27T07:12:11.454150",
     "status": "completed"
    },
    "tags": []
   },
   "source": [
    "### 5.3.2. UMAP"
   ]
  },
  {
   "cell_type": "code",
   "execution_count": 35,
   "id": "b94008d2",
   "metadata": {
    "execution": {
     "iopub.execute_input": "2022-11-27T07:12:11.488282Z",
     "iopub.status.busy": "2022-11-27T07:12:11.488004Z",
     "iopub.status.idle": "2022-11-27T07:12:40.320062Z",
     "shell.execute_reply": "2022-11-27T07:12:40.319453Z"
    },
    "papermill": {
     "duration": 28.844382,
     "end_time": "2022-11-27T07:12:40.321274",
     "exception": false,
     "start_time": "2022-11-27T07:12:11.476892",
     "status": "completed"
    },
    "tags": []
   },
   "outputs": [],
   "source": [
    "reducer = umap.UMAP(random_state=42)\n",
    "embedding = reducer.fit_transform(X)\n",
    "\n",
    "# embedding\n",
    "df_umap = pd.DataFrame()\n",
    "df_umap['embedding_x'] = embedding[:, 0]\n",
    "df_umap['embedding_y'] = embedding[:, 1]\n",
    "\n",
    "#sns.scatterplot(x='embedding_x', y='embedding_y', data=df_umap);"
   ]
  },
  {
   "cell_type": "markdown",
   "id": "58e64ab1",
   "metadata": {
    "papermill": {
     "duration": 0.0102,
     "end_time": "2022-11-27T07:12:40.339527",
     "exception": false,
     "start_time": "2022-11-27T07:12:40.329327",
     "status": "completed"
    },
    "tags": []
   },
   "source": [
    "# 6. Data Preparation"
   ]
  },
  {
   "cell_type": "code",
   "execution_count": 36,
   "id": "c85f32b5",
   "metadata": {
    "execution": {
     "iopub.execute_input": "2022-11-27T07:12:40.367499Z",
     "iopub.status.busy": "2022-11-27T07:12:40.367007Z",
     "iopub.status.idle": "2022-11-27T07:12:40.371989Z",
     "shell.execute_reply": "2022-11-27T07:12:40.371341Z"
    },
    "papermill": {
     "duration": 0.020607,
     "end_time": "2022-11-27T07:12:40.373501",
     "exception": false,
     "start_time": "2022-11-27T07:12:40.352894",
     "status": "completed"
    },
    "tags": []
   },
   "outputs": [],
   "source": [
    "df5 = df4_3.copy()\n",
    "df5_aux = df4_3.copy()\n",
    "\n",
    "# umap embedding\n",
    "df5_umap = df_umap.copy()\n",
    "\n",
    "# tsne embedding\n",
    "#df5_tsne = df_tsne.copy()\n",
    "\n",
    "# tree embedding\n",
    "#df5_tree = df_tree.copy()"
   ]
  },
  {
   "cell_type": "code",
   "execution_count": 37,
   "id": "de12dd40",
   "metadata": {
    "execution": {
     "iopub.execute_input": "2022-11-27T07:12:40.404556Z",
     "iopub.status.busy": "2022-11-27T07:12:40.404216Z",
     "iopub.status.idle": "2022-11-27T07:12:40.418485Z",
     "shell.execute_reply": "2022-11-27T07:12:40.417987Z"
    },
    "papermill": {
     "duration": 0.030926,
     "end_time": "2022-11-27T07:12:40.419696",
     "exception": false,
     "start_time": "2022-11-27T07:12:40.388770",
     "status": "completed"
    },
    "tags": []
   },
   "outputs": [],
   "source": [
    "mm_gross_revenue = pp.MinMaxScaler()\n",
    "mm_recency_days = pp.MinMaxScaler()\n",
    "mm_q_products = pp.MinMaxScaler()\n",
    "mm_frequency = pp.MinMaxScaler()\n",
    "mm_q_returns = pp.MinMaxScaler()\n",
    "\n",
    "df5['gross_revenue'] = mm_gross_revenue.fit_transform( df5[['gross_revenue']] )\n",
    "df5['recency_days'] = mm_recency_days.fit_transform( df5[['recency_days']] )\n",
    "#df5['q_invoices'] = mm.fit_transform( df5[['q_invoices']] )\n",
    "#df5['q_items'] = mm.fit_transform( df5[['q_items']] )\n",
    "df5['q_products'] = mm_q_products.fit_transform( df5[['q_products']] )\n",
    "#df5['avg_ticket'] = mm.fit_transform( df5[['avg_ticket']] )\n",
    "#df5['avg_recency_days'] = mm.fit_transform( df5[['avg_recency_days']] )\n",
    "df5['frequency'] = mm_frequency.fit_transform( df5[['frequency']] )\n",
    "df5['q_returns'] = mm_q_returns.fit_transform( df5[['q_returns']] )\n",
    "#df5['avg_basket_size'] = mm.fit_transform( df5[['avg_basket_size']] )\n",
    "#df5['avg_unique_basket_size'] = mm.fit_transform( df5[['avg_unique_basket_size']] )"
   ]
  },
  {
   "cell_type": "markdown",
   "id": "c14487fc",
   "metadata": {
    "papermill": {
     "duration": 0.007792,
     "end_time": "2022-11-27T07:12:40.435425",
     "exception": false,
     "start_time": "2022-11-27T07:12:40.427633",
     "status": "completed"
    },
    "tags": []
   },
   "source": [
    "# 7. Feature Selection"
   ]
  },
  {
   "cell_type": "code",
   "execution_count": 38,
   "id": "86c571a9",
   "metadata": {
    "execution": {
     "iopub.execute_input": "2022-11-27T07:12:40.453945Z",
     "iopub.status.busy": "2022-11-27T07:12:40.453422Z",
     "iopub.status.idle": "2022-11-27T07:12:40.456905Z",
     "shell.execute_reply": "2022-11-27T07:12:40.456379Z"
    },
    "papermill": {
     "duration": 0.01501,
     "end_time": "2022-11-27T07:12:40.458290",
     "exception": false,
     "start_time": "2022-11-27T07:12:40.443280",
     "status": "completed"
    },
    "tags": []
   },
   "outputs": [],
   "source": [
    "df6 = df5.copy()\n",
    "\n",
    "df6_umap = df5_umap.copy()\n",
    "\n",
    "#df6_tsne = df5_tsne.copy()\n",
    "\n",
    "#df6_tree = df5_tree.copy()"
   ]
  },
  {
   "cell_type": "markdown",
   "id": "32da6e4a",
   "metadata": {
    "papermill": {
     "duration": 0.016642,
     "end_time": "2022-11-27T07:12:40.487593",
     "exception": false,
     "start_time": "2022-11-27T07:12:40.470951",
     "status": "completed"
    },
    "tags": []
   },
   "source": [
    "# 8. Hyperparameter Fine Tuning"
   ]
  },
  {
   "cell_type": "code",
   "execution_count": 39,
   "id": "a0ad3b0f",
   "metadata": {
    "execution": {
     "iopub.execute_input": "2022-11-27T07:12:40.514679Z",
     "iopub.status.busy": "2022-11-27T07:12:40.514486Z",
     "iopub.status.idle": "2022-11-27T07:12:40.517046Z",
     "shell.execute_reply": "2022-11-27T07:12:40.516694Z"
    },
    "papermill": {
     "duration": 0.018288,
     "end_time": "2022-11-27T07:12:40.518074",
     "exception": false,
     "start_time": "2022-11-27T07:12:40.499786",
     "status": "completed"
    },
    "tags": []
   },
   "outputs": [],
   "source": [
    "#X = df6.copy()\n",
    "\n",
    "X_umap = df6_umap.copy()\n",
    "\n",
    "#X_tsne = df6_tsne.copy()\n",
    "\n",
    "#X_tree = df6_tree.copy()"
   ]
  },
  {
   "cell_type": "markdown",
   "id": "ab64c903",
   "metadata": {
    "papermill": {
     "duration": 0.008138,
     "end_time": "2022-11-27T07:12:40.534436",
     "exception": false,
     "start_time": "2022-11-27T07:12:40.526298",
     "status": "completed"
    },
    "tags": []
   },
   "source": [
    "# 9. Model Training"
   ]
  },
  {
   "cell_type": "markdown",
   "id": "28012dc3",
   "metadata": {
    "papermill": {
     "duration": 0.007864,
     "end_time": "2022-11-27T07:12:40.550170",
     "exception": false,
     "start_time": "2022-11-27T07:12:40.542306",
     "status": "completed"
    },
    "tags": []
   },
   "source": [
    "## 9.1. K-Means UMAP Embedding Space"
   ]
  },
  {
   "cell_type": "code",
   "execution_count": 40,
   "id": "8214aac0",
   "metadata": {
    "execution": {
     "iopub.execute_input": "2022-11-27T07:12:40.568726Z",
     "iopub.status.busy": "2022-11-27T07:12:40.568537Z",
     "iopub.status.idle": "2022-11-27T07:12:51.497973Z",
     "shell.execute_reply": "2022-11-27T07:12:51.497410Z"
    },
    "papermill": {
     "duration": 10.940655,
     "end_time": "2022-11-27T07:12:51.499224",
     "exception": false,
     "start_time": "2022-11-27T07:12:40.558569",
     "status": "completed"
    },
    "tags": []
   },
   "outputs": [],
   "source": [
    "# model definition\n",
    "k = 11\n",
    "kmeans_umap = c.KMeans(init='random', n_clusters=k, n_init=500, max_iter=300, random_state=42)\n",
    "\n",
    "# model training\n",
    "kmeans_umap.fit(X_umap)\n",
    "\n",
    "# clustering\n",
    "labels_umap_kmeans = kmeans_umap.predict(X_umap)"
   ]
  },
  {
   "cell_type": "code",
   "execution_count": 41,
   "id": "8380d624",
   "metadata": {
    "execution": {
     "iopub.execute_input": "2022-11-27T07:12:51.523076Z",
     "iopub.status.busy": "2022-11-27T07:12:51.522512Z",
     "iopub.status.idle": "2022-11-27T07:12:52.545688Z",
     "shell.execute_reply": "2022-11-27T07:12:52.544884Z"
    },
    "papermill": {
     "duration": 1.039142,
     "end_time": "2022-11-27T07:12:52.548612",
     "exception": false,
     "start_time": "2022-11-27T07:12:51.509470",
     "status": "completed"
    },
    "tags": []
   },
   "outputs": [
    {
     "name": "stdout",
     "output_type": "stream",
     "text": [
      "WSS Value: 53153.93359375\n"
     ]
    },
    {
     "name": "stdout",
     "output_type": "stream",
     "text": [
      "SS Value: 0.5215659141540527\n"
     ]
    }
   ],
   "source": [
    "# WSS\n",
    "print('WSS Value: {}'.format(kmeans_umap.inertia_))\n",
    "\n",
    "# SS\n",
    "print('SS Value: {}'.format(metrics.silhouette_score(X_umap, labels_umap_kmeans, metric='euclidean')))"
   ]
  },
  {
   "cell_type": "markdown",
   "id": "3ab83df7",
   "metadata": {
    "papermill": {
     "duration": 0.01042,
     "end_time": "2022-11-27T07:12:52.567945",
     "exception": false,
     "start_time": "2022-11-27T07:12:52.557525",
     "status": "completed"
    },
    "tags": []
   },
   "source": [
    "# 10. Cluster Analysis"
   ]
  },
  {
   "cell_type": "markdown",
   "id": "c07234e0",
   "metadata": {
    "papermill": {
     "duration": 0.01514,
     "end_time": "2022-11-27T07:12:52.593663",
     "exception": false,
     "start_time": "2022-11-27T07:12:52.578523",
     "status": "completed"
    },
    "tags": []
   },
   "source": [
    "## 10.1. KMeans UMAP Embedding Space"
   ]
  },
  {
   "cell_type": "code",
   "execution_count": 42,
   "id": "a03b05d8",
   "metadata": {
    "execution": {
     "iopub.execute_input": "2022-11-27T07:12:52.625615Z",
     "iopub.status.busy": "2022-11-27T07:12:52.625225Z",
     "iopub.status.idle": "2022-11-27T07:12:52.631143Z",
     "shell.execute_reply": "2022-11-27T07:12:52.630510Z"
    },
    "papermill": {
     "duration": 0.026239,
     "end_time": "2022-11-27T07:12:52.635095",
     "exception": false,
     "start_time": "2022-11-27T07:12:52.608856",
     "status": "completed"
    },
    "tags": []
   },
   "outputs": [],
   "source": [
    "df9_umap_kmeans = X_umap\n",
    "df9_umap_kmeans['cluster'] = labels_umap_kmeans"
   ]
  },
  {
   "cell_type": "markdown",
   "id": "098f7048",
   "metadata": {
    "papermill": {
     "duration": 0.017992,
     "end_time": "2022-11-27T07:12:52.671643",
     "exception": false,
     "start_time": "2022-11-27T07:12:52.653651",
     "status": "completed"
    },
    "tags": []
   },
   "source": [
    "## 10.3. Clusters Profile"
   ]
  },
  {
   "cell_type": "code",
   "execution_count": 43,
   "id": "3ba0b5b7",
   "metadata": {
    "execution": {
     "iopub.execute_input": "2022-11-27T07:12:52.709482Z",
     "iopub.status.busy": "2022-11-27T07:12:52.709107Z",
     "iopub.status.idle": "2022-11-27T07:12:52.742232Z",
     "shell.execute_reply": "2022-11-27T07:12:52.740867Z"
    },
    "papermill": {
     "duration": 0.055832,
     "end_time": "2022-11-27T07:12:52.744837",
     "exception": false,
     "start_time": "2022-11-27T07:12:52.689005",
     "status": "completed"
    },
    "tags": []
   },
   "outputs": [
    {
     "data": {
      "text/html": [
       "<div>\n",
       "<style scoped>\n",
       "    .dataframe tbody tr th:only-of-type {\n",
       "        vertical-align: middle;\n",
       "    }\n",
       "\n",
       "    .dataframe tbody tr th {\n",
       "        vertical-align: top;\n",
       "    }\n",
       "\n",
       "    .dataframe thead th {\n",
       "        text-align: right;\n",
       "    }\n",
       "</style>\n",
       "<table border=\"1\" class=\"dataframe\">\n",
       "  <thead>\n",
       "    <tr style=\"text-align: right;\">\n",
       "      <th></th>\n",
       "      <th>customer_id</th>\n",
       "      <th>gross_revenue</th>\n",
       "      <th>recency_days</th>\n",
       "      <th>q_products</th>\n",
       "      <th>frequency</th>\n",
       "      <th>q_returns</th>\n",
       "      <th>cluster</th>\n",
       "      <th>last_training_timestamp</th>\n",
       "    </tr>\n",
       "  </thead>\n",
       "  <tbody>\n",
       "    <tr>\n",
       "      <th>0</th>\n",
       "      <td>17850</td>\n",
       "      <td>5391.21</td>\n",
       "      <td>372</td>\n",
       "      <td>297</td>\n",
       "      <td>17.000000</td>\n",
       "      <td>40</td>\n",
       "      <td>5</td>\n",
       "      <td>2022-11-27 04:12:52</td>\n",
       "    </tr>\n",
       "    <tr>\n",
       "      <th>1</th>\n",
       "      <td>13047</td>\n",
       "      <td>3232.59</td>\n",
       "      <td>56</td>\n",
       "      <td>171</td>\n",
       "      <td>0.028302</td>\n",
       "      <td>35</td>\n",
       "      <td>2</td>\n",
       "      <td>2022-11-27 04:12:52</td>\n",
       "    </tr>\n",
       "    <tr>\n",
       "      <th>2</th>\n",
       "      <td>12583</td>\n",
       "      <td>6705.38</td>\n",
       "      <td>2</td>\n",
       "      <td>232</td>\n",
       "      <td>0.040323</td>\n",
       "      <td>50</td>\n",
       "      <td>1</td>\n",
       "      <td>2022-11-27 04:12:52</td>\n",
       "    </tr>\n",
       "    <tr>\n",
       "      <th>3</th>\n",
       "      <td>13748</td>\n",
       "      <td>948.25</td>\n",
       "      <td>95</td>\n",
       "      <td>28</td>\n",
       "      <td>0.017921</td>\n",
       "      <td>0</td>\n",
       "      <td>3</td>\n",
       "      <td>2022-11-27 04:12:52</td>\n",
       "    </tr>\n",
       "    <tr>\n",
       "      <th>4</th>\n",
       "      <td>15100</td>\n",
       "      <td>876.00</td>\n",
       "      <td>333</td>\n",
       "      <td>3</td>\n",
       "      <td>0.073171</td>\n",
       "      <td>22</td>\n",
       "      <td>4</td>\n",
       "      <td>2022-11-27 04:12:52</td>\n",
       "    </tr>\n",
       "  </tbody>\n",
       "</table>\n",
       "</div>"
      ],
      "text/plain": [
       "   customer_id  gross_revenue  recency_days  q_products  frequency  q_returns  \\\n",
       "0        17850        5391.21           372         297  17.000000         40   \n",
       "1        13047        3232.59            56         171   0.028302         35   \n",
       "2        12583        6705.38             2         232   0.040323         50   \n",
       "3        13748         948.25            95          28   0.017921          0   \n",
       "4        15100         876.00           333           3   0.073171         22   \n",
       "\n",
       "   cluster last_training_timestamp  \n",
       "0        5     2022-11-27 04:12:52  \n",
       "1        2     2022-11-27 04:12:52  \n",
       "2        1     2022-11-27 04:12:52  \n",
       "3        3     2022-11-27 04:12:52  \n",
       "4        4     2022-11-27 04:12:52  "
      ]
     },
     "execution_count": 43,
     "metadata": {},
     "output_type": "execute_result"
    }
   ],
   "source": [
    "df9_2 = df4[cols_selected].copy()\n",
    "df9_2['cluster'] = labels_umap_kmeans\n",
    "\n",
    "# change data types\n",
    "df9_2['cluster'] = df9_2['cluster'].astype('int64')\n",
    "df9_2['recency_days'] = df9_2['recency_days'].astype('int64')\n",
    "df9_2['q_products'] = df9_2['q_products'].astype('int64')\n",
    "df9_2['q_returns'] = df9_2['q_returns'].astype('int64')\n",
    "\n",
    "df9_2['last_training_timestamp'] = datetime.now().strftime('%Y-%m-%d %H:%M:%S')\n",
    "\n",
    "cluster_map = {4:0, 0:1, 6:2, 1:3, 3:4, 10:5, 7:6, 9:7, 5:8, 8:9, 2:10}\n",
    "df9_2['cluster'] = df9_2['cluster'].map(cluster_map)\n",
    "\n",
    "df9_2.head()"
   ]
  },
  {
   "cell_type": "code",
   "execution_count": 44,
   "id": "5cc0a32e",
   "metadata": {
    "execution": {
     "iopub.execute_input": "2022-11-27T07:12:52.784139Z",
     "iopub.status.busy": "2022-11-27T07:12:52.782978Z",
     "iopub.status.idle": "2022-11-27T07:12:52.826460Z",
     "shell.execute_reply": "2022-11-27T07:12:52.825267Z"
    },
    "papermill": {
     "duration": 0.064817,
     "end_time": "2022-11-27T07:12:52.829237",
     "exception": false,
     "start_time": "2022-11-27T07:12:52.764420",
     "status": "completed"
    },
    "tags": []
   },
   "outputs": [],
   "source": [
    "# number of customers\n",
    "df_cluster = df9_2[['customer_id', 'cluster']].groupby('cluster').count().reset_index()\n",
    "df_cluster['perc_customer'] = 100 * (df_cluster['customer_id'] / df_cluster['customer_id'].sum())\n",
    "\n",
    "# average gross revenue\n",
    "df_avg_gross_revenue = df9_2[['gross_revenue', 'cluster']].groupby('cluster').mean().reset_index()\n",
    "df_cluster = pd.merge(df_cluster, df_avg_gross_revenue, how='inner', on='cluster')\n",
    "\n",
    "# average recency days\n",
    "df_avg_recency_days = df9_2[['recency_days', 'cluster']].groupby('cluster').mean().reset_index()\n",
    "df_cluster = pd.merge(df_cluster, df_avg_recency_days, how='inner', on='cluster')\n",
    "\n",
    "# average invoice number\n",
    "df_avg_invoice_no = df9_2[['q_products', 'cluster']].groupby('cluster').mean().reset_index()\n",
    "df_cluster = pd.merge(df_cluster, df_avg_invoice_no, how='inner', on='cluster')\n",
    "\n",
    "# average frequency\n",
    "df_avg_frequency = df9_2[['frequency', 'cluster']].groupby('cluster').mean().reset_index()\n",
    "df_cluster = pd.merge(df_cluster, df_avg_frequency, how='inner', on='cluster')\n",
    "\n",
    "# average returns\n",
    "df_avg_returns = df9_2[['q_returns', 'cluster']].groupby('cluster').mean().reset_index()\n",
    "df_cluster = pd.merge(df_cluster, df_avg_returns, how='inner', on='cluster')"
   ]
  },
  {
   "cell_type": "code",
   "execution_count": 45,
   "id": "8e968e30",
   "metadata": {
    "execution": {
     "iopub.execute_input": "2022-11-27T07:12:52.868696Z",
     "iopub.status.busy": "2022-11-27T07:12:52.867997Z",
     "iopub.status.idle": "2022-11-27T07:12:52.887588Z",
     "shell.execute_reply": "2022-11-27T07:12:52.886418Z"
    },
    "papermill": {
     "duration": 0.044501,
     "end_time": "2022-11-27T07:12:52.891298",
     "exception": false,
     "start_time": "2022-11-27T07:12:52.846797",
     "status": "completed"
    },
    "tags": []
   },
   "outputs": [
    {
     "data": {
      "text/html": [
       "<div>\n",
       "<style scoped>\n",
       "    .dataframe tbody tr th:only-of-type {\n",
       "        vertical-align: middle;\n",
       "    }\n",
       "\n",
       "    .dataframe tbody tr th {\n",
       "        vertical-align: top;\n",
       "    }\n",
       "\n",
       "    .dataframe thead th {\n",
       "        text-align: right;\n",
       "    }\n",
       "</style>\n",
       "<table border=\"1\" class=\"dataframe\">\n",
       "  <thead>\n",
       "    <tr style=\"text-align: right;\">\n",
       "      <th></th>\n",
       "      <th>cluster</th>\n",
       "      <th>customer_id</th>\n",
       "      <th>perc_customer</th>\n",
       "      <th>gross_revenue</th>\n",
       "      <th>recency_days</th>\n",
       "      <th>q_products</th>\n",
       "      <th>frequency</th>\n",
       "      <th>q_returns</th>\n",
       "    </tr>\n",
       "  </thead>\n",
       "  <tbody>\n",
       "    <tr>\n",
       "      <th>0</th>\n",
       "      <td>0</td>\n",
       "      <td>755</td>\n",
       "      <td>13.257243</td>\n",
       "      <td>6260.089298</td>\n",
       "      <td>11.672848</td>\n",
       "      <td>241.884768</td>\n",
       "      <td>0.046377</td>\n",
       "      <td>76.582781</td>\n",
       "    </tr>\n",
       "    <tr>\n",
       "      <th>1</th>\n",
       "      <td>1</td>\n",
       "      <td>383</td>\n",
       "      <td>6.725198</td>\n",
       "      <td>2663.616136</td>\n",
       "      <td>4.229765</td>\n",
       "      <td>175.469974</td>\n",
       "      <td>0.140000</td>\n",
       "      <td>17.490862</td>\n",
       "    </tr>\n",
       "    <tr>\n",
       "      <th>2</th>\n",
       "      <td>2</td>\n",
       "      <td>836</td>\n",
       "      <td>14.679543</td>\n",
       "      <td>1705.616292</td>\n",
       "      <td>36.602871</td>\n",
       "      <td>98.068182</td>\n",
       "      <td>0.030811</td>\n",
       "      <td>16.688995</td>\n",
       "    </tr>\n",
       "    <tr>\n",
       "      <th>3</th>\n",
       "      <td>3</td>\n",
       "      <td>392</td>\n",
       "      <td>6.883231</td>\n",
       "      <td>1164.390612</td>\n",
       "      <td>100.165816</td>\n",
       "      <td>61.757653</td>\n",
       "      <td>0.187623</td>\n",
       "      <td>8.362245</td>\n",
       "    </tr>\n",
       "    <tr>\n",
       "      <th>4</th>\n",
       "      <td>4</td>\n",
       "      <td>429</td>\n",
       "      <td>7.532924</td>\n",
       "      <td>1028.458881</td>\n",
       "      <td>290.703963</td>\n",
       "      <td>59.675991</td>\n",
       "      <td>0.630727</td>\n",
       "      <td>202.198135</td>\n",
       "    </tr>\n",
       "    <tr>\n",
       "      <th>5</th>\n",
       "      <td>5</td>\n",
       "      <td>277</td>\n",
       "      <td>4.863916</td>\n",
       "      <td>906.624801</td>\n",
       "      <td>362.581227</td>\n",
       "      <td>65.126354</td>\n",
       "      <td>1.051473</td>\n",
       "      <td>2.472924</td>\n",
       "    </tr>\n",
       "    <tr>\n",
       "      <th>6</th>\n",
       "      <td>6</td>\n",
       "      <td>586</td>\n",
       "      <td>10.289728</td>\n",
       "      <td>861.548140</td>\n",
       "      <td>35.119454</td>\n",
       "      <td>44.726962</td>\n",
       "      <td>0.712406</td>\n",
       "      <td>3.452218</td>\n",
       "    </tr>\n",
       "    <tr>\n",
       "      <th>7</th>\n",
       "      <td>7</td>\n",
       "      <td>595</td>\n",
       "      <td>10.447761</td>\n",
       "      <td>774.428504</td>\n",
       "      <td>135.126050</td>\n",
       "      <td>65.057143</td>\n",
       "      <td>0.766010</td>\n",
       "      <td>3.692437</td>\n",
       "    </tr>\n",
       "    <tr>\n",
       "      <th>8</th>\n",
       "      <td>8</td>\n",
       "      <td>391</td>\n",
       "      <td>6.865672</td>\n",
       "      <td>647.621893</td>\n",
       "      <td>199.107417</td>\n",
       "      <td>47.230179</td>\n",
       "      <td>1.023018</td>\n",
       "      <td>2.447570</td>\n",
       "    </tr>\n",
       "    <tr>\n",
       "      <th>9</th>\n",
       "      <td>9</td>\n",
       "      <td>408</td>\n",
       "      <td>7.164179</td>\n",
       "      <td>606.151887</td>\n",
       "      <td>56.230392</td>\n",
       "      <td>46.142157</td>\n",
       "      <td>1.073063</td>\n",
       "      <td>6.595588</td>\n",
       "    </tr>\n",
       "    <tr>\n",
       "      <th>10</th>\n",
       "      <td>10</td>\n",
       "      <td>643</td>\n",
       "      <td>11.290606</td>\n",
       "      <td>492.876174</td>\n",
       "      <td>246.793157</td>\n",
       "      <td>39.611198</td>\n",
       "      <td>1.020218</td>\n",
       "      <td>1.598756</td>\n",
       "    </tr>\n",
       "  </tbody>\n",
       "</table>\n",
       "</div>"
      ],
      "text/plain": [
       "    cluster  customer_id  perc_customer  gross_revenue  recency_days  \\\n",
       "0         0          755      13.257243    6260.089298     11.672848   \n",
       "1         1          383       6.725198    2663.616136      4.229765   \n",
       "2         2          836      14.679543    1705.616292     36.602871   \n",
       "3         3          392       6.883231    1164.390612    100.165816   \n",
       "4         4          429       7.532924    1028.458881    290.703963   \n",
       "5         5          277       4.863916     906.624801    362.581227   \n",
       "6         6          586      10.289728     861.548140     35.119454   \n",
       "7         7          595      10.447761     774.428504    135.126050   \n",
       "8         8          391       6.865672     647.621893    199.107417   \n",
       "9         9          408       7.164179     606.151887     56.230392   \n",
       "10       10          643      11.290606     492.876174    246.793157   \n",
       "\n",
       "    q_products  frequency   q_returns  \n",
       "0   241.884768   0.046377   76.582781  \n",
       "1   175.469974   0.140000   17.490862  \n",
       "2    98.068182   0.030811   16.688995  \n",
       "3    61.757653   0.187623    8.362245  \n",
       "4    59.675991   0.630727  202.198135  \n",
       "5    65.126354   1.051473    2.472924  \n",
       "6    44.726962   0.712406    3.452218  \n",
       "7    65.057143   0.766010    3.692437  \n",
       "8    47.230179   1.023018    2.447570  \n",
       "9    46.142157   1.073063    6.595588  \n",
       "10   39.611198   1.020218    1.598756  "
      ]
     },
     "execution_count": 45,
     "metadata": {},
     "output_type": "execute_result"
    }
   ],
   "source": [
    "df_cluster.sort_values('gross_revenue', ascending=False)"
   ]
  },
  {
   "cell_type": "markdown",
   "id": "d928adc6",
   "metadata": {
    "papermill": {
     "duration": 0.014983,
     "end_time": "2022-11-27T07:12:52.936825",
     "exception": false,
     "start_time": "2022-11-27T07:12:52.921842",
     "status": "completed"
    },
    "tags": []
   },
   "source": [
    "# 12. Deployment"
   ]
  },
  {
   "cell_type": "code",
   "execution_count": 46,
   "id": "60c6e893",
   "metadata": {
    "execution": {
     "iopub.execute_input": "2022-11-27T07:12:52.970649Z",
     "iopub.status.busy": "2022-11-27T07:12:52.970136Z",
     "iopub.status.idle": "2022-11-27T07:12:52.983118Z",
     "shell.execute_reply": "2022-11-27T07:12:52.981658Z"
    },
    "papermill": {
     "duration": 0.035807,
     "end_time": "2022-11-27T07:12:52.986297",
     "exception": false,
     "start_time": "2022-11-27T07:12:52.950490",
     "status": "completed"
    },
    "tags": []
   },
   "outputs": [
    {
     "data": {
      "text/plain": [
       "customer_id                  int64\n",
       "gross_revenue              float64\n",
       "recency_days                 int64\n",
       "q_products                   int64\n",
       "frequency                  float64\n",
       "q_returns                    int64\n",
       "cluster                      int64\n",
       "last_training_timestamp     object\n",
       "dtype: object"
      ]
     },
     "execution_count": 46,
     "metadata": {},
     "output_type": "execute_result"
    }
   ],
   "source": [
    "df9_2.dtypes"
   ]
  },
  {
   "cell_type": "markdown",
   "id": "06ab148a",
   "metadata": {
    "papermill": {
     "duration": 0.019829,
     "end_time": "2022-11-27T07:12:53.025020",
     "exception": false,
     "start_time": "2022-11-27T07:12:53.005191",
     "status": "completed"
    },
    "tags": []
   },
   "source": [
    "## 12.1. Insert Into SQLite"
   ]
  },
  {
   "cell_type": "code",
   "execution_count": 47,
   "id": "f1c5d96c",
   "metadata": {
    "execution": {
     "iopub.execute_input": "2022-11-27T07:12:53.067324Z",
     "iopub.status.busy": "2022-11-27T07:12:53.066926Z",
     "iopub.status.idle": "2022-11-27T07:12:53.163725Z",
     "shell.execute_reply": "2022-11-27T07:12:53.162784Z"
    },
    "papermill": {
     "duration": 0.122185,
     "end_time": "2022-11-27T07:12:53.165874",
     "exception": false,
     "start_time": "2022-11-27T07:12:53.043689",
     "status": "completed"
    },
    "tags": []
   },
   "outputs": [
    {
     "data": {
      "text/plain": [
       "5695"
      ]
     },
     "execution_count": 47,
     "metadata": {},
     "output_type": "execute_result"
    }
   ],
   "source": [
    "# database connection\n",
    "path_database = 'sqlite:///' + path + 'database/loyalty_program'\n",
    "conn = create_engine(path_database)\n",
    "\n",
    "# drop table\n",
    "query_drop_table_loyalty_program = \"\"\"\n",
    "    DROP TABLE loyalty_program\n",
    "\"\"\"\n",
    "\n",
    "# create table\n",
    "query_create_table_loyalty_program = \"\"\"\n",
    "    CREATE TABLE loyalty_program(\n",
    "        customer_id INTEGER,\n",
    "        gross_revenue REAL,\n",
    "        recency_days INTEGER,\n",
    "        q_products INTEGER,\n",
    "        frequency REAL,\n",
    "        q_returns INTEGER,\n",
    "        cluster INTEGER\n",
    "    )\n",
    "\"\"\"\n",
    "\n",
    "conn.execute(query_drop_table_loyalty_program)\n",
    "\n",
    "# insert data\n",
    "df9_2.to_sql('loyalty_program', con=conn, if_exists='append', index=False)"
   ]
  },
  {
   "cell_type": "code",
   "execution_count": 48,
   "id": "6c34bfcc",
   "metadata": {
    "execution": {
     "iopub.execute_input": "2022-11-27T07:12:53.203378Z",
     "iopub.status.busy": "2022-11-27T07:12:53.202845Z",
     "iopub.status.idle": "2022-11-27T07:12:53.252256Z",
     "shell.execute_reply": "2022-11-27T07:12:53.251383Z"
    },
    "papermill": {
     "duration": 0.069528,
     "end_time": "2022-11-27T07:12:53.253795",
     "exception": false,
     "start_time": "2022-11-27T07:12:53.184267",
     "status": "completed"
    },
    "tags": []
   },
   "outputs": [
    {
     "data": {
      "text/html": [
       "<div>\n",
       "<style scoped>\n",
       "    .dataframe tbody tr th:only-of-type {\n",
       "        vertical-align: middle;\n",
       "    }\n",
       "\n",
       "    .dataframe tbody tr th {\n",
       "        vertical-align: top;\n",
       "    }\n",
       "\n",
       "    .dataframe thead th {\n",
       "        text-align: right;\n",
       "    }\n",
       "</style>\n",
       "<table border=\"1\" class=\"dataframe\">\n",
       "  <thead>\n",
       "    <tr style=\"text-align: right;\">\n",
       "      <th></th>\n",
       "      <th>customer_id</th>\n",
       "      <th>gross_revenue</th>\n",
       "      <th>recency_days</th>\n",
       "      <th>q_products</th>\n",
       "      <th>frequency</th>\n",
       "      <th>q_returns</th>\n",
       "      <th>cluster</th>\n",
       "      <th>last_training_timestamp</th>\n",
       "    </tr>\n",
       "  </thead>\n",
       "  <tbody>\n",
       "    <tr>\n",
       "      <th>0</th>\n",
       "      <td>17850</td>\n",
       "      <td>5391.21</td>\n",
       "      <td>372</td>\n",
       "      <td>297</td>\n",
       "      <td>17.000000</td>\n",
       "      <td>40</td>\n",
       "      <td>5</td>\n",
       "      <td>2022-11-27 04:12:52</td>\n",
       "    </tr>\n",
       "    <tr>\n",
       "      <th>1</th>\n",
       "      <td>13047</td>\n",
       "      <td>3232.59</td>\n",
       "      <td>56</td>\n",
       "      <td>171</td>\n",
       "      <td>0.028302</td>\n",
       "      <td>35</td>\n",
       "      <td>2</td>\n",
       "      <td>2022-11-27 04:12:52</td>\n",
       "    </tr>\n",
       "    <tr>\n",
       "      <th>2</th>\n",
       "      <td>12583</td>\n",
       "      <td>6705.38</td>\n",
       "      <td>2</td>\n",
       "      <td>232</td>\n",
       "      <td>0.040323</td>\n",
       "      <td>50</td>\n",
       "      <td>1</td>\n",
       "      <td>2022-11-27 04:12:52</td>\n",
       "    </tr>\n",
       "    <tr>\n",
       "      <th>3</th>\n",
       "      <td>13748</td>\n",
       "      <td>948.25</td>\n",
       "      <td>95</td>\n",
       "      <td>28</td>\n",
       "      <td>0.017921</td>\n",
       "      <td>0</td>\n",
       "      <td>3</td>\n",
       "      <td>2022-11-27 04:12:52</td>\n",
       "    </tr>\n",
       "    <tr>\n",
       "      <th>4</th>\n",
       "      <td>15100</td>\n",
       "      <td>876.00</td>\n",
       "      <td>333</td>\n",
       "      <td>3</td>\n",
       "      <td>0.073171</td>\n",
       "      <td>22</td>\n",
       "      <td>4</td>\n",
       "      <td>2022-11-27 04:12:52</td>\n",
       "    </tr>\n",
       "  </tbody>\n",
       "</table>\n",
       "</div>"
      ],
      "text/plain": [
       "   customer_id  gross_revenue  recency_days  q_products  frequency  q_returns  \\\n",
       "0        17850        5391.21           372         297  17.000000         40   \n",
       "1        13047        3232.59            56         171   0.028302         35   \n",
       "2        12583        6705.38             2         232   0.040323         50   \n",
       "3        13748         948.25            95          28   0.017921          0   \n",
       "4        15100         876.00           333           3   0.073171         22   \n",
       "\n",
       "   cluster last_training_timestamp  \n",
       "0        5     2022-11-27 04:12:52  \n",
       "1        2     2022-11-27 04:12:52  \n",
       "2        1     2022-11-27 04:12:52  \n",
       "3        3     2022-11-27 04:12:52  \n",
       "4        4     2022-11-27 04:12:52  "
      ]
     },
     "execution_count": 48,
     "metadata": {},
     "output_type": "execute_result"
    }
   ],
   "source": [
    "query_all_data = \"\"\"\n",
    "    SELECT * FROM loyalty_program lp\n",
    "\"\"\"\n",
    "\n",
    "df = pd.read_sql_query(query_all_data, conn)\n",
    "\n",
    "df.head()"
   ]
  }
 ],
 "metadata": {
  "kernelspec": {
   "display_name": "Python 3.9.13 ('loyalty-program')",
   "language": "python",
   "name": "python3"
  },
  "language_info": {
   "codemirror_mode": {
    "name": "ipython",
    "version": 3
   },
   "file_extension": ".py",
   "mimetype": "text/x-python",
   "name": "python",
   "nbconvert_exporter": "python",
   "pygments_lexer": "ipython3",
   "version": "3.9.13"
  },
  "papermill": {
   "default_parameters": {},
   "duration": 61.376037,
   "end_time": "2022-11-27T07:12:54.384351",
   "environment_variables": {},
   "exception": null,
   "input_path": "notebooks/clustering_c9_deploy.ipynb",
   "output_path": "notebooks/reports/clustering_c9_deploy_2022-11-27_04:11:52.ipynb",
   "parameters": {},
   "start_time": "2022-11-27T07:11:53.008314",
   "version": "2.4.0"
  },
  "vscode": {
   "interpreter": {
    "hash": "956b1d11d7f4c6dd4db31a5303c4e7d4371cf7a7b08ae68b3d3b1c47108e5d66"
   }
  }
 },
 "nbformat": 4,
 "nbformat_minor": 5
}